{
 "cells": [
  {
   "cell_type": "markdown",
   "id": "7fe7f8e5-9517-4cce-b7c4-88d18b811680",
   "metadata": {},
   "source": [
    "# COLLECT FUNDAMENTAL DATA FROM ALPHA VANTAGE"
   ]
  },
  {
   "cell_type": "code",
   "execution_count": 1,
   "id": "9e7cc7fd-2cc5-4f61-ba94-10a51abdb895",
   "metadata": {},
   "outputs": [],
   "source": [
    "import pandas as pd\n",
    "import requests"
   ]
  },
  {
   "cell_type": "code",
   "execution_count": 68,
   "id": "496be06c-9aec-4215-803c-f035a49250f1",
   "metadata": {},
   "outputs": [],
   "source": [
    "api_key = 'GZWRUSYXT18ZTR6C'\n",
    "features_cols = ['fiscalDateEnding','totalRevenue','costOfRevenue','sellingGeneralAndAdministrative','researchAndDevelopment','depreciation','interestExpense','totalCurrentLiabilities','incomeTaxExpense','netIncome','commonStockSharesOutstanding','cashAndCashEquivalentsAtCarryingValue','cashAndShortTermInvestments','operatingCashflow','totalLiabilities','inventory','currentNetReceivables','propertyPlantEquipment','capitalExpenditures','longTermInvestments','totalShareholderEquity','longTermDebt','retainedEarnings','dividendPayoutCommonStock','paymentsForRepurchaseOfCommonStock','treasuryStock','currentLongTermDebt']\n",
    "price_cols = ['open','high','low','close','volume']\n",
    "DOW_30_TICKER = ['AXP', 'AMGN', 'AAPL', 'BA', 'CAT', 'CSCO', 'CVX', 'GS', 'HD', 'HON', 'IBM', 'INTC', 'JNJ', 'KO', 'JPM', 'MCD', 'MMM', 'MRK', 'MSFT', 'NKE', 'PG', 'TRV', 'UNH', 'CRM', 'VZ', 'V', 'WBA', 'WMT', 'DIS', 'DOW']"
   ]
  },
  {
   "cell_type": "markdown",
   "id": "16501a0c-4f7d-44f6-9803-a598b4667c26",
   "metadata": {},
   "source": [
    "## Collect for SP500 from Alpha Vantage"
   ]
  },
  {
   "cell_type": "code",
   "execution_count": 3,
   "id": "be974984-35a4-46a9-a85f-81c614983ebd",
   "metadata": {},
   "outputs": [],
   "source": [
    "def collect_fundamental(ticker):\n",
    "    # Download income statement\n",
    "    url = f'https://www.alphavantage.co/query?function=INCOME_STATEMENT&symbol={ticker}&apikey={api_key}'\n",
    "    r = requests.get(url)\n",
    "    data_is = r.json()\n",
    "\n",
    "    # Download balance sheet\n",
    "    url = f'https://www.alphavantage.co/query?function=BALANCE_SHEET&symbol={ticker}&apikey={api_key}'\n",
    "    r = requests.get(url)\n",
    "    data_bs = r.json()\n",
    "\n",
    "    # Download cash flow\n",
    "    url = f'https://www.alphavantage.co/query?function=CASH_FLOW&symbol={ticker}&apikey={api_key}'\n",
    "    r = requests.get(url)\n",
    "    data_cf = r.json()\n",
    "\n",
    "    df_is = pd.json_normalize(data_is['annualReports'])\n",
    "    df_bs = pd.json_normalize(data_bs['annualReports'])\n",
    "    df_cf = pd.json_normalize(data_cf['annualReports'])\n",
    "\n",
    "    merged_df = df_is.merge(df_bs).merge(df_cf)\n",
    "    merged_df['tic'] = ticker\n",
    "    merged_df = merged_df[['tic']+features_cols]\n",
    "    merged_df['fiscalDateEnding'] = pd.to_datetime(merged_df.fiscalDateEnding,format='mixed')\n",
    "\n",
    "    return merged_df"
   ]
  },
  {
   "cell_type": "markdown",
   "id": "db9b200b-bd51-483a-9768-e075d365cb39",
   "metadata": {},
   "source": [
    "Check reach download limitation"
   ]
  },
  {
   "cell_type": "code",
   "execution_count": 4,
   "id": "29e0262c-1764-4fc1-9d74-e050978b00b2",
   "metadata": {},
   "outputs": [
    {
     "name": "stdout",
     "output_type": "stream",
     "text": [
      "The history saving thread hit an unexpected error (OperationalError('attempt to write a readonly database')).History will not be written to the database.\n"
     ]
    },
    {
     "data": {
      "text/plain": [
       "{'Information': 'Thank you for using Alpha Vantage! Our standard API rate limit is 25 requests per day. Please subscribe to any of the premium plans at https://www.alphavantage.co/premium/ to instantly remove all daily rate limits.'}"
      ]
     },
     "execution_count": 4,
     "metadata": {},
     "output_type": "execute_result"
    }
   ],
   "source": [
    "url = f'https://www.alphavantage.co/query?function=INCOME_STATEMENT&symbol=GS&apikey=GUKB8WJD0YFELJD3'\n",
    "r = requests.get(url)\n",
    "data_is = r.json()\n",
    "data_is"
   ]
  },
  {
   "cell_type": "code",
   "execution_count": null,
   "id": "aefb33f9-b331-4f39-b47c-c57937397a63",
   "metadata": {},
   "outputs": [],
   "source": [
    "fund_data = pd.DataFrame()\n",
    "tickets = DOW_30_TICKER[7:15]\n",
    "for ticket in tickets:\n",
    "    df_fund = collect_fundamental(ticket)\n",
    "    fund_data = pd.concat([fund_data, df_fund], ignore_index=True)"
   ]
  },
  {
   "cell_type": "code",
   "execution_count": null,
   "id": "17eaa426-b7ec-439f-9ec6-bc1ca28148a8",
   "metadata": {},
   "outputs": [],
   "source": [
    "fund_data.to_csv('dow30.csv')"
   ]
  },
  {
   "cell_type": "markdown",
   "id": "41bbdb32-b1f9-4d0f-a975-60bc3f52828f",
   "metadata": {},
   "source": [
    "## Collect news for Dow30 from Alpha Vantage"
   ]
  },
  {
   "cell_type": "code",
   "execution_count": 59,
   "id": "67a7bb7c-20d2-4f4c-b39e-7631d9b1a5bd",
   "metadata": {},
   "outputs": [],
   "source": [
    "time_from = '20210101T0130'\n",
    "DOW_30_TICKER = ['AXP', 'AMGN', 'AAPL', 'BA', 'CAT', 'CSCO', 'CVX', 'GS', 'HD', 'HON', 'IBM', 'INTC', 'JNJ', 'KO', 'MCD', 'MMM', 'MRK', 'MSFT', 'NKE', 'PG', 'TRV', 'UNH', 'CRM', 'VZ', 'V', 'WBA', 'WMT', 'DIS', 'DOW']"
   ]
  },
  {
   "cell_type": "code",
   "execution_count": 30,
   "id": "85a3cbb0-e19e-4f09-b698-a782bbcec1c2",
   "metadata": {},
   "outputs": [],
   "source": [
    "def collect_news(ticker):\n",
    "    url = f'https://www.alphavantage.co/query?function=NEWS_SENTIMENT&time_from={time_from}&tickers={ticker}&apikey={api_key}'\n",
    "    r = requests.get(url)\n",
    "    data = r.json()\n",
    "    feed = pd.json_normalize(data['feed'])\n",
    "    feed['tic'] = ticker\n",
    "    return feed"
   ]
  },
  {
   "cell_type": "code",
   "execution_count": 60,
   "id": "c60754e9-f5ef-427e-9249-3c656f700e03",
   "metadata": {},
   "outputs": [],
   "source": [
    "news_data = pd.DataFrame()\n",
    "\n",
    "tickers = DOW_30_TICKER\n",
    "for ticker in tickers:\n",
    "    df_news = collect_news(ticker)\n",
    "    news_data = pd.concat([news_data, df_news], ignore_index=True)"
   ]
  },
  {
   "cell_type": "code",
   "execution_count": 65,
   "id": "1141326f-185b-44a0-8924-2af7b0143a72",
   "metadata": {},
   "outputs": [],
   "source": [
    "news_data.to_csv('dow30_news_data.csv')"
   ]
  },
  {
   "cell_type": "markdown",
   "id": "3bc98635-b214-4291-9936-cb65b3b317ce",
   "metadata": {},
   "source": [
    "## Collect Commondity prices from Alpha Vantage"
   ]
  },
  {
   "cell_type": "code",
   "execution_count": 74,
   "id": "05b6095e-a474-435b-b3da-141fa0dd79e0",
   "metadata": {},
   "outputs": [],
   "source": [
    "COMMONDITY_CODE = ['WTI','BRENT','NATURAL_GAS','COPPER','ALUMINUM','WHEAT','CORN','COTTON','SUGAR','COFFEE','ALL_COMMODITIES']"
   ]
  },
  {
   "cell_type": "code",
   "execution_count": 78,
   "id": "3c0d161a-1ba1-47f8-9dd6-32388b48d37c",
   "metadata": {},
   "outputs": [],
   "source": [
    "def collect_commondity(ticker):\n",
    "    url = f'https://www.alphavantage.co/query?function={ticker}&apikey={api_key}'\n",
    "    r = requests.get(url)\n",
    "    data = r.json()\n",
    "    commondity = pd.json_normalize(data['data'])\n",
    "    commondity['symbol'] = ticker\n",
    "    return commondity"
   ]
  },
  {
   "cell_type": "code",
   "execution_count": 79,
   "id": "6a43bcbf-7b7d-4ae9-bce9-d8df326f02ff",
   "metadata": {},
   "outputs": [],
   "source": [
    "commondity_data = pd.DataFrame()\n",
    "\n",
    "for ticker in COMMONDITY_CODE:\n",
    "    df_commondity = collect_commondity(ticker)\n",
    "    commondity_data = pd.concat([commondity_data, df_commondity], ignore_index=True)"
   ]
  },
  {
   "cell_type": "code",
   "execution_count": 81,
   "id": "c21ca69e-7b40-4bc1-b02e-6bc0f5f162f3",
   "metadata": {},
   "outputs": [],
   "source": [
    "commondity_data.to_csv('commondity_data.csv')"
   ]
  },
  {
   "cell_type": "markdown",
   "id": "9a672350-c6f6-4cc5-b7b0-e4c95eea3888",
   "metadata": {},
   "source": [
    "## Collect Commondity prices from Alpha Vantage"
   ]
  },
  {
   "cell_type": "code",
   "execution_count": 82,
   "id": "0c372a77-a864-4545-88c7-386b2c96bedd",
   "metadata": {},
   "outputs": [],
   "source": [
    "ECONOMIC_CODE = ['REAL_GDP','REAL_GDP_PER_CAPITA','TREASURY_YIELD','FEDERAL_FUNDS_RATE','CPI','INFLATION','RETAIL_SALES','DURABLES','UNEMPLOYMENT','NONFARM_PAYROLL']"
   ]
  },
  {
   "cell_type": "code",
   "execution_count": 83,
   "id": "a8944619-2513-4175-8eed-bca17718232a",
   "metadata": {},
   "outputs": [],
   "source": [
    "def collect_economic(ticker):\n",
    "    url = f'https://www.alphavantage.co/query?function={ticker}&apikey={api_key}'\n",
    "    r = requests.get(url)\n",
    "    data = r.json()\n",
    "    economic = pd.json_normalize(data['data'])\n",
    "    economic['symbol'] = ticker\n",
    "    return economic"
   ]
  },
  {
   "cell_type": "code",
   "execution_count": 84,
   "id": "76d91b94-472f-4ade-9aed-c29d49df1ee6",
   "metadata": {},
   "outputs": [],
   "source": [
    "economic_data = pd.DataFrame()\n",
    "\n",
    "for ticker in COMMONDITY_CODE:\n",
    "    df_economic = collect_economic(ticker)\n",
    "    economic_data = pd.concat([economic_data, df_economic], ignore_index=True)"
   ]
  },
  {
   "cell_type": "code",
   "execution_count": 85,
   "id": "7cd532a3-dfe5-4f56-9f62-815b067715c8",
   "metadata": {},
   "outputs": [],
   "source": [
    "economic_data.to_csv('economic_data.csv')"
   ]
  },
  {
   "cell_type": "markdown",
   "id": "951d15e4-41ac-49e5-82db-61110096bce8",
   "metadata": {},
   "source": [
    "## Collect Technical Indicators from Alpha Vantage"
   ]
  },
  {
   "cell_type": "code",
   "execution_count": null,
   "id": "1a7304d2-30df-4aaa-b337-fc9f2ccc222e",
   "metadata": {},
   "outputs": [],
   "source": []
  },
  {
   "cell_type": "code",
   "execution_count": null,
   "id": "2441d5a5-1f3f-4d13-a148-31858b6c93aa",
   "metadata": {},
   "outputs": [],
   "source": []
  },
  {
   "cell_type": "code",
   "execution_count": null,
   "id": "b3b2b60f-b4bd-4c5d-a87b-c4542a9948d5",
   "metadata": {},
   "outputs": [],
   "source": []
  },
  {
   "cell_type": "markdown",
   "id": "51a6024f-f0fa-4cf4-bbb6-5d3a9022eea2",
   "metadata": {},
   "source": [
    "## Vietnam stock market from VnStock"
   ]
  },
  {
   "cell_type": "code",
   "execution_count": 4,
   "id": "19edb267-9530-4d76-b449-7b143109e3cf",
   "metadata": {},
   "outputs": [],
   "source": [
    "df_fund_vn = pd.read_csv('FUNDAMENTAL_combined_data_SECOND_RAW.csv')\n",
    "df_fund_vn"
   ]
  },
  {
   "cell_type": "code",
   "execution_count": null,
   "id": "554c7c22-a57b-4d7f-aa81-c12eadd78bb6",
   "metadata": {},
   "outputs": [],
   "source": []
  },
  {
   "cell_type": "code",
   "execution_count": null,
   "id": "0f6433fc-29de-4374-b9fa-fd95290931d9",
   "metadata": {},
   "outputs": [],
   "source": []
  }
 ],
 "metadata": {
  "kernelspec": {
   "display_name": "Python 3 (ipykernel)",
   "language": "python",
   "name": "python3"
  },
  "language_info": {
   "codemirror_mode": {
    "name": "ipython",
    "version": 3
   },
   "file_extension": ".py",
   "mimetype": "text/x-python",
   "name": "python",
   "nbconvert_exporter": "python",
   "pygments_lexer": "ipython3",
   "version": "3.10.13"
  }
 },
 "nbformat": 4,
 "nbformat_minor": 5
}
