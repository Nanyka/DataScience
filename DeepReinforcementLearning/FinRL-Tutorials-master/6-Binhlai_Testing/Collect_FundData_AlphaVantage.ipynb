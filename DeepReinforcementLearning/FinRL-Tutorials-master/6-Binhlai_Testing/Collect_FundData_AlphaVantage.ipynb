{
 "cells": [
  {
   "cell_type": "markdown",
   "id": "7fe7f8e5-9517-4cce-b7c4-88d18b811680",
   "metadata": {},
   "source": [
    "# COLLECT FUNDAMENTAL DATA FROM ALPHA VANTAGE"
   ]
  },
  {
   "cell_type": "code",
   "execution_count": 1,
   "id": "9e7cc7fd-2cc5-4f61-ba94-10a51abdb895",
   "metadata": {},
   "outputs": [],
   "source": [
    "import pandas as pd\n",
    "import requests"
   ]
  },
  {
   "cell_type": "code",
   "execution_count": 2,
   "id": "496be06c-9aec-4215-803c-f035a49250f1",
   "metadata": {},
   "outputs": [],
   "source": [
    "api_key = 'EEAI5CE759SUIP6I'\n",
    "features_cols = ['fiscalDateEnding','totalRevenue','costOfRevenue','sellingGeneralAndAdministrative','researchAndDevelopment','depreciation','interestExpense','totalCurrentLiabilities','incomeTaxExpense','netIncome','commonStockSharesOutstanding','cashAndCashEquivalentsAtCarryingValue','cashAndShortTermInvestments','operatingCashflow','totalLiabilities','inventory','currentNetReceivables','propertyPlantEquipment','capitalExpenditures','longTermInvestments','totalShareholderEquity','longTermDebt','retainedEarnings','dividendPayoutCommonStock','paymentsForRepurchaseOfCommonStock','treasuryStock','currentLongTermDebt']\n",
    "price_cols = ['open','high','low','close','volume']\n",
    "DOW_30_TICKER = ['AXP', 'AMGN', 'AAPL', 'BA', 'CAT', 'CSCO', 'CVX', 'GS', 'HD', 'HON', 'IBM', 'INTC', 'JNJ', 'KO', 'JPM', 'MCD', 'MMM', 'MRK', 'MSFT', 'NKE', 'PG', 'TRV', 'UNH', 'CRM', 'VZ', 'V', 'WBA', 'WMT', 'DIS', 'DOW']"
   ]
  },
  {
   "cell_type": "code",
   "execution_count": 3,
   "id": "be974984-35a4-46a9-a85f-81c614983ebd",
   "metadata": {},
   "outputs": [],
   "source": [
    "def collect_fundamental(ticket):\n",
    "    # Download income statement\n",
    "    url = f'https://www.alphavantage.co/query?function=INCOME_STATEMENT&symbol={ticket}&apikey={api_key}'\n",
    "    r = requests.get(url)\n",
    "    data_is = r.json()\n",
    "\n",
    "    # Download balance sheet\n",
    "    url = f'https://www.alphavantage.co/query?function=BALANCE_SHEET&symbol={ticket}&apikey={api_key}'\n",
    "    r = requests.get(url)\n",
    "    data_bs = r.json()\n",
    "\n",
    "    # Download cash flow\n",
    "    url = f'https://www.alphavantage.co/query?function=CASH_FLOW&symbol={ticket}&apikey={api_key}'\n",
    "    r = requests.get(url)\n",
    "    data_cf = r.json()\n",
    "\n",
    "    df_is = pd.json_normalize(data_is['annualReports'])\n",
    "    df_bs = pd.json_normalize(data_bs['annualReports'])\n",
    "    df_cf = pd.json_normalize(data_cf['annualReports'])\n",
    "\n",
    "    merged_df = df_is.merge(df_bs).merge(df_cf)\n",
    "    merged_df['tic'] = ticket\n",
    "    merged_df = merged_df[['tic']+features_cols]\n",
    "    merged_df['fiscalDateEnding'] = pd.to_datetime(merged_df.fiscalDateEnding,format='mixed')\n",
    "\n",
    "    return merged_df"
   ]
  },
  {
   "cell_type": "markdown",
   "id": "db9b200b-bd51-483a-9768-e075d365cb39",
   "metadata": {},
   "source": [
    "Check reach download limitation"
   ]
  },
  {
   "cell_type": "code",
   "execution_count": 4,
   "id": "29e0262c-1764-4fc1-9d74-e050978b00b2",
   "metadata": {},
   "outputs": [
    {
     "name": "stdout",
     "output_type": "stream",
     "text": [
      "The history saving thread hit an unexpected error (OperationalError('attempt to write a readonly database')).History will not be written to the database.\n"
     ]
    },
    {
     "data": {
      "text/plain": [
       "{'Information': 'Thank you for using Alpha Vantage! Our standard API rate limit is 25 requests per day. Please subscribe to any of the premium plans at https://www.alphavantage.co/premium/ to instantly remove all daily rate limits.'}"
      ]
     },
     "execution_count": 4,
     "metadata": {},
     "output_type": "execute_result"
    }
   ],
   "source": [
    "url = f'https://www.alphavantage.co/query?function=INCOME_STATEMENT&symbol=GS&apikey=GUKB8WJD0YFELJD3'\n",
    "r = requests.get(url)\n",
    "data_is = r.json()\n",
    "data_is"
   ]
  },
  {
   "cell_type": "code",
   "execution_count": null,
   "id": "aefb33f9-b331-4f39-b47c-c57937397a63",
   "metadata": {},
   "outputs": [],
   "source": [
    "fund_data = pd.DataFrame()\n",
    "tickets = DOW_30_TICKER[7:15]\n",
    "for ticket in tickets:\n",
    "    df_fund = collect_fundamental(ticket)\n",
    "    fund_data = pd.concat([fund_data, df_fund], ignore_index=True)"
   ]
  },
  {
   "cell_type": "code",
   "execution_count": null,
   "id": "17eaa426-b7ec-439f-9ec6-bc1ca28148a8",
   "metadata": {},
   "outputs": [],
   "source": [
    "fund_data.to_csv('dow30.csv')"
   ]
  },
  {
   "cell_type": "code",
   "execution_count": null,
   "id": "e74e5cd4-6d2b-40ee-8601-8e1537ef8320",
   "metadata": {},
   "outputs": [],
   "source": []
  }
 ],
 "metadata": {
  "kernelspec": {
   "display_name": "Python 3 (ipykernel)",
   "language": "python",
   "name": "python3"
  },
  "language_info": {
   "codemirror_mode": {
    "name": "ipython",
    "version": 3
   },
   "file_extension": ".py",
   "mimetype": "text/x-python",
   "name": "python",
   "nbconvert_exporter": "python",
   "pygments_lexer": "ipython3",
   "version": "3.10.13"
  }
 },
 "nbformat": 4,
 "nbformat_minor": 5
}
