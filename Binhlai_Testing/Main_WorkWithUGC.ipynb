{
 "cells": [
  {
   "cell_type": "markdown",
   "id": "e4f964c6-3b57-47d9-b9a6-087466c435e4",
   "metadata": {},
   "source": [
    "# TEST THE CONNECTING FLOW FROM PYTHON SCRIPT TO UNITY CLOUD"
   ]
  },
  {
   "cell_type": "code",
   "execution_count": 1,
   "id": "75a6fe06-b859-4a1c-8b9d-2957646110c4",
   "metadata": {},
   "outputs": [],
   "source": [
    "import os\n",
    "import requests\n",
    "import datetime\n",
    "import base64\n",
    "from json import loads as json_loads,dumps\n",
    "\n",
    "project_id = \"dec49a5b-f225-4337-9ffb-3d095b81a994\"\n",
    "environment_id = \"ee2d923d-2aab-451e-8d78-1fbdc487711a\"\n",
    "player_id = \"oZFhVsAuYjXVfx1C6B2K8LMY4sN2\"\n",
    "SERVICE_ACCOUNT_CREDENTIALS = \"Basic d2aedefb-5574-4234-9f21-9679914c6cd1:bxn_jkbj5SMF4ZtrljxdYiby2LJ_vJrZ\""
   ]
  },
  {
   "cell_type": "code",
   "execution_count": 2,
   "id": "90bbd59c-6964-4161-b5a0-d667099862e2",
   "metadata": {},
   "outputs": [],
   "source": [
    "def check_and_create_dir(dir_path):\n",
    "  try:\n",
    "    if not os.path.exists(dir_path):\n",
    "      os.makedirs(dir_path)  # Create intermediate directories if needed\n",
    "      print(f\"Directory created: {dir_path}\")\n",
    "    else:\n",
    "      print(f\"Directory exists: {dir_path}\")\n",
    "    return True\n",
    "  except OSError as e:\n",
    "    print(f\"Error creating directory: {e}\")\n",
    "    return False"
   ]
  },
  {
   "cell_type": "code",
   "execution_count": 3,
   "id": "f2e8e68e-2dba-4e56-8045-a151a993da6e",
   "metadata": {},
   "outputs": [
    {
     "name": "stdout",
     "output_type": "stream",
     "text": [
      "Directory exists: /Users/admin/Desktop/GameProjects/DataScience/Binhlai_Testing/user_models\n",
      "Directory exists: /Users/admin/Desktop/GameProjects/DataScience/Binhlai_Testing/datasets\n"
     ]
    },
    {
     "data": {
      "text/plain": [
       "True"
      ]
     },
     "execution_count": 3,
     "metadata": {},
     "output_type": "execute_result"
    }
   ],
   "source": [
    "current_dir = os.getcwd()\n",
    "USER_MODEL_DIR = current_dir + '/user_models'\n",
    "DATA_SAVE_DIR = current_dir + '/datasets'\n",
    "check_and_create_dir(USER_MODEL_DIR)\n",
    "check_and_create_dir(DATA_SAVE_DIR)"
   ]
  },
  {
   "cell_type": "markdown",
   "id": "a01ab267-e8ea-4507-a6d5-d9c83a7d7d3e",
   "metadata": {},
   "source": [
    "## 1. Connecting to Unity Cloud"
   ]
  },
  {
   "cell_type": "markdown",
   "id": "4e3c676c-9ee4-48f4-b68c-4120d05c4455",
   "metadata": {},
   "source": [
    "### 1.1. Authenticate an API using service account credentials"
   ]
  },
  {
   "cell_type": "code",
   "execution_count": 4,
   "id": "93e999a0-8d26-4de7-8718-a5b884f296f6",
   "metadata": {
    "scrolled": true
   },
   "outputs": [
    {
     "data": {
      "text/plain": [
       "'{\"accessToken\":\"eyJhbGciOiJSUzI1NiIsInR5cCI6IkpXVCIsImtpZCI6InVuaXR5LWtleXM6MzU0OWFkNDMtN2RjYS00YTdkLTg2MWMtYjJmM2ZjZmMyZTAyIiwiamt1IjoiaHR0cHM6Ly9rZXlzLnNlcnZpY2VzLnVuaXR5LmNvbS8ifQ.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.ijKkFqbgbOHYcU-Pl9N24QTw_4zvdQki7oFMrU7IG-6iI1xZ_L1lddoj2Txk9x92DClgXSun_zqTUKJjT2orweztYiLzeWHfi08fK3b8E7EcOYAUNuzjU3esEXgs9IgHR0H0GoN4as5qjyd-YJgEkj6-k-xCgC2htmpPo_oVHsnSaYXC40SmjhWDy9LiAAlWY0lfr26zOqi1-Um3CzkWITm9YNa_3IAtYcqcu2qUOVEoxFIdf09I8sG52avk1YO62GePKK0MMs1LcZOImEKDpksXWMKf6L4wnKZOjU_6y4JskFwMPjKPxRODu3_0okT6uERs0LTb0rWu03RZdhCA0g\"}'"
      ]
     },
     "execution_count": 4,
     "metadata": {},
     "output_type": "execute_result"
    }
   ],
   "source": [
    "url = f\"https://services.api.unity.com/auth/v1/token-exchange\"\n",
    "method = \"POST\"\n",
    "params = {\"projectId\":project_id, \"environmentId\":environment_id}\n",
    "headers = {\"Authorization\": SERVICE_ACCOUNT_CREDENTIALS}\n",
    "response1 = requests.request(method, url, headers=headers, params=params)\n",
    "response1.text"
   ]
  },
  {
   "cell_type": "code",
   "execution_count": 5,
   "id": "dfa73271-b27d-4b2a-906f-4a2002188e1b",
   "metadata": {},
   "outputs": [],
   "source": [
    "data_response1 = response1.json()\n",
    "access_token = data_response1[\"accessToken\"]"
   ]
  },
  {
   "cell_type": "markdown",
   "id": "6ff576ad-bf09-4296-9742-c16274580c56",
   "metadata": {},
   "source": [
    "### 1.2. Work with Cloud Save\n",
    "Get another player's data"
   ]
  },
  {
   "cell_type": "code",
   "execution_count": 6,
   "id": "e4859d0a-21ad-423d-9458-f4d76233ba1e",
   "metadata": {},
   "outputs": [
    {
     "name": "stderr",
     "output_type": "stream",
     "text": [
      "2024-04-19 11:02:35,364 urllib3.connectionpool [DEBUG] - Starting new HTTPS connection (1): cloud-save.services.api.unity.com:443\n",
      "2024-04-19 11:02:35,605 urllib3.connectionpool [DEBUG] - https://cloud-save.services.api.unity.com:443 \"GET /v1/data/projects/dec49a5b-f225-4337-9ffb-3d095b81a994/players/oZFhVsAuYjXVfx1C6B2K8LMY4sN2/items?keys=MODELS HTTP/1.1\" 200 535\n"
     ]
    },
    {
     "data": {
      "text/plain": [
       "'{\"results\":[{\"key\":\"MODELS\",\"value\":{\"models\":[{\"accuracy\":0,\"features\":[\"gross_profit_margin\",\"profit_margin\",\"trend_gross_margin\",\"eps_on_mp\"],\"frequency\":1,\"index\":0,\"lastTrained\":\"3:55 PM\",\"localDirectory\":\"./Assets/MAIN/AiAgent/Models/model_7a925f8b-83e6-4de3-832c-90b9d08ea210.txt\",\"stability\":0,\"subscriptionId\":\"7a925f8b-83e6-4de3-832c-90b9d08ea210\",\"trainedAmount\":0}]},\"writeLock\":\"56bb9c556ccb0a20a1cd84e88e6b5b83\",\"modified\":{\"date\":\"2024-04-18T12:55:29Z\"},\"created\":{\"date\":\"2024-04-15T03:31:20Z\"}}],\"links\":{\"next\":null}}'"
      ]
     },
     "execution_count": 6,
     "metadata": {},
     "output_type": "execute_result"
    }
   ],
   "source": [
    "url = f\"https://cloud-save.services.api.unity.com/v1/data/projects/{project_id}/players/{player_id}/items\"\n",
    "method = \"GET\"\n",
    "headers = {\"ProjectId\": project_id,\"Authorization\":f\"Bearer {access_token}\"}\n",
    "params = {\"keys\": [\"MODELS\"]}\n",
    "response2 = requests.request(method, url, headers=headers, params=params)\n",
    "response2.text"
   ]
  },
  {
   "cell_type": "markdown",
   "id": "348d1326-5827-4f9d-bdc2-d989aaacb0ce",
   "metadata": {},
   "source": [
    "## 2. Test loading an ML model from local files"
   ]
  },
  {
   "cell_type": "markdown",
   "id": "9765c5ca-bbf2-4c47-9b2f-b902db176b4d",
   "metadata": {},
   "source": [
    "### 2.1. Load an available model & save it as txt file"
   ]
  },
  {
   "cell_type": "markdown",
   "id": "f0e0a73e-83ae-4fa4-a736-dc28cbf0215d",
   "metadata": {},
   "source": [
    "#### Load model configuration from Cloud Save"
   ]
  },
  {
   "cell_type": "code",
   "execution_count": 7,
   "id": "e1089ec6-ccd3-473c-9eb0-aec22553d572",
   "metadata": {},
   "outputs": [
    {
     "data": {
      "text/plain": [
       "{'accuracy': 0,\n",
       " 'features': ['gross_profit_margin',\n",
       "  'profit_margin',\n",
       "  'trend_gross_margin',\n",
       "  'eps_on_mp'],\n",
       " 'frequency': 1,\n",
       " 'index': 0,\n",
       " 'lastTrained': '3:55 PM',\n",
       " 'localDirectory': './Assets/MAIN/AiAgent/Models/model_7a925f8b-83e6-4de3-832c-90b9d08ea210.txt',\n",
       " 'stability': 0,\n",
       " 'subscriptionId': '7a925f8b-83e6-4de3-832c-90b9d08ea210',\n",
       " 'trainedAmount': 0}"
      ]
     },
     "execution_count": 7,
     "metadata": {},
     "output_type": "execute_result"
    }
   ],
   "source": [
    "config_data = json_loads(response2.text)\n",
    "models_data = config_data['results'][0]['value']['models']\n",
    "model_config = models_data[0]\n",
    "model_config"
   ]
  },
  {
   "cell_type": "markdown",
   "id": "5d89ed9a-aace-4d96-8f30-aeb5f2853ea3",
   "metadata": {},
   "source": [
    "##### Check if the user has the model or not. \n",
    "- If not, generate a new one with model's index and locate it in a folder named following player_Id.\n",
    "- Load the model from storage."
   ]
  },
  {
   "cell_type": "code",
   "execution_count": 8,
   "id": "436cfffa-7b83-43dd-9f63-e86d0b2362c6",
   "metadata": {},
   "outputs": [],
   "source": [
    "observation_size = len(model_config['features'])\n",
    "model_index = model_config['index']"
   ]
  },
  {
   "cell_type": "markdown",
   "id": "16415915-8847-4124-b281-3bda83db0f4b",
   "metadata": {},
   "source": [
    "## 3. Work with UGC"
   ]
  },
  {
   "cell_type": "markdown",
   "id": "51d8a444-f8a0-4340-b198-c2b5fafb6039",
   "metadata": {},
   "source": [
    "#### 3.1. Take a look on current contents"
   ]
  },
  {
   "cell_type": "markdown",
   "id": "76a1364f-5d68-44ce-b395-d691dee384c2",
   "metadata": {},
   "source": [
    "Get details about a content item"
   ]
  },
  {
   "cell_type": "code",
   "execution_count": 2,
   "id": "867799ce-8753-40c4-aded-5bd4f03230bf",
   "metadata": {
    "scrolled": true
   },
   "outputs": [
    {
     "name": "stdout",
     "output_type": "stream",
     "text": [
      "ERROR! Session/line number was not unique in database. History logging moved to new session 4\n"
     ]
    },
    {
     "data": {
      "text/plain": [
       "'{\"offset\":0,\"limit\":25,\"total\":0,\"results\":[{\"id\":\"f769ffb4-7e50-4760-9984-409c88b1732a\",\"name\":\"Booster\",\"customId\":null,\"description\":\"A description\",\"visibility\":\"public\",\"moderationStatus\":\"approved\",\"version\":\"ebb38503-46da-469d-8570-35997147ef1e\",\"createdAt\":\"2024-04-08T16:19:25.424963Z\",\"updatedAt\":\"2024-04-18T06:06:53.985253Z\",\"deletedAt\":null,\"projectId\":\"dec49a5b-f225-4337-9ffb-3d095b81a994\",\"environmentId\":\"ee2d923d-2aab-451e-8d78-1fbdc487711a\",\"creatorAccountId\":\"1EYlvVKJ4Y59pt0JaR2BoAffdJ8m\",\"thumbnailUrl\":\"https://ugc-prd.unity3d.com/ugc-prd/projects/dec49a5b-f225-4337-9ffb-3d095b81a994/envs/ee2d923d-2aab-451e-8d78-1fbdc487711a/contents/f769ffb4-7e50-4760-9984-409c88b1732a/ebb38503-46da-469d-8570-35997147ef1e_t?TOKEN=exp=1714458748~acl=/ugc-prd/projects/dec49a5b-f225-4337-9ffb-3d095b81a994/envs/ee2d923d-2aab-451e-8d78-1fbdc487711a/contents/f769ffb4-7e50-4760-9984-409c88b1732a/*~hmac=f4333fd5c35613f148ff0b88cfe97d847f7e1c20579cd2c4bcfd8a695ceca22e\",\"downloadUrl\":\"https://ugc-prd.unity3d.com/ugc-prd/projects/dec49a5b-f225-4337-9ffb-3d095b81a994/envs/ee2d923d-2aab-451e-8d78-1fbdc487711a/contents/f769ffb4-7e50-4760-9984-409c88b1732a/ebb38503-46da-469d-8570-35997147ef1e_c?TOKEN=exp=1714458748~acl=/ugc-prd/projects/dec49a5b-f225-4337-9ffb-3d095b81a994/envs/ee2d923d-2aab-451e-8d78-1fbdc487711a/contents/f769ffb4-7e50-4760-9984-409c88b1732a/*~hmac=f4333fd5c35613f148ff0b88cfe97d847f7e1c20579cd2c4bcfd8a695ceca22e\",\"portalUrl\":\"https://ugc-web.prd.mz.internal.unity3d.com//projects/dec49a5b-f225-4337-9ffb-3d095b81a994/environments/ee2d923d-2aab-451e-8d78-1fbdc487711a/contents/f769ffb4-7e50-4760-9984-409c88b1732a\",\"contentMd5Hash\":\"0rkxmTXoLGmpIkgqsdOWyA==\",\"thumbnailMd5Hash\":\"0rkxmTXoLGmpIkgqsdOWyA==\",\"metadata\":null,\"tags\":[],\"discoveryTags\":null,\"averageRating\":null,\"ratingCount\":null,\"subscriptionCount\":null,\"statistics\":null,\"isUserSubscribed\":false,\"assetUploadStatus\":\"success\",\"thumbnailUploadStatus\":\"success\",\"webhookEventName\":null},{\"id\":\"657283ae-aeb6-4e79-a896-672d9db16a7f\",\"name\":\"ZipModel\",\"customId\":null,\"description\":\"Test to send it as byte[]\",\"visibility\":\"public\",\"moderationStatus\":\"approved\",\"version\":\"058f849f-6ed1-4780-a3fa-463763331e10\",\"createdAt\":\"2024-04-09T08:35:12.795144Z\",\"updatedAt\":\"2024-04-18T06:06:54.257251Z\",\"deletedAt\":null,\"projectId\":\"dec49a5b-f225-4337-9ffb-3d095b81a994\",\"environmentId\":\"ee2d923d-2aab-451e-8d78-1fbdc487711a\",\"creatorAccountId\":\"1EYlvVKJ4Y59pt0JaR2BoAffdJ8m\",\"thumbnailUrl\":\"https://ugc-prd.unity3d.com/ugc-prd/projects/dec49a5b-f225-4337-9ffb-3d095b81a994/envs/ee2d923d-2aab-451e-8d78-1fbdc487711a/contents/657283ae-aeb6-4e79-a896-672d9db16a7f/058f849f-6ed1-4780-a3fa-463763331e10_t?TOKEN=exp=1714458748~acl=/ugc-prd/projects/dec49a5b-f225-4337-9ffb-3d095b81a994/envs/ee2d923d-2aab-451e-8d78-1fbdc487711a/contents/657283ae-aeb6-4e79-a896-672d9db16a7f/*~hmac=0214f5e1e28c0da81ba78b70f2ffe150b39afb7adafa683eeb7ca357a88e38ba\",\"downloadUrl\":\"https://ugc-prd.unity3d.com/ugc-prd/projects/dec49a5b-f225-4337-9ffb-3d095b81a994/envs/ee2d923d-2aab-451e-8d78-1fbdc487711a/contents/657283ae-aeb6-4e79-a896-672d9db16a7f/058f849f-6ed1-4780-a3fa-463763331e10_c?TOKEN=exp=1714458748~acl=/ugc-prd/projects/dec49a5b-f225-4337-9ffb-3d095b81a994/envs/ee2d923d-2aab-451e-8d78-1fbdc487711a/contents/657283ae-aeb6-4e79-a896-672d9db16a7f/*~hmac=0214f5e1e28c0da81ba78b70f2ffe150b39afb7adafa683eeb7ca357a88e38ba\",\"portalUrl\":\"https://ugc-web.prd.mz.internal.unity3d.com//projects/dec49a5b-f225-4337-9ffb-3d095b81a994/environments/ee2d923d-2aab-451e-8d78-1fbdc487711a/contents/657283ae-aeb6-4e79-a896-672d9db16a7f\",\"contentMd5Hash\":\"1gdHbQj/q9GZABbRHdClmg==\",\"thumbnailMd5Hash\":null,\"metadata\":null,\"tags\":[],\"discoveryTags\":null,\"averageRating\":null,\"ratingCount\":null,\"subscriptionCount\":null,\"statistics\":null,\"isUserSubscribed\":false,\"assetUploadStatus\":\"success\",\"thumbnailUploadStatus\":\"none\",\"webhookEventName\":null},{\"id\":\"6d868170-f1ac-4a6d-9c26-ce9bfff6a423\",\"name\":\"oZFhVsAuYjXVfx1C6B2K8LMY4sN2_material_0\",\"customId\":null,\"description\":\"A another new description!\",\"visibility\":\"public\",\"moderationStatus\":\"approved\",\"version\":\"1c4513dc-a90e-4593-896f-19dbfccb7743\",\"createdAt\":\"2024-04-17T08:22:52.72548Z\",\"updatedAt\":\"2024-04-19T11:10:57.392595Z\",\"deletedAt\":null,\"projectId\":\"dec49a5b-f225-4337-9ffb-3d095b81a994\",\"environmentId\":\"ee2d923d-2aab-451e-8d78-1fbdc487711a\",\"creatorAccountId\":\"oZFhVsAuYjXVfx1C6B2K8LMY4sN2\",\"thumbnailUrl\":\"https://ugc-prd.unity3d.com/ugc-prd/projects/dec49a5b-f225-4337-9ffb-3d095b81a994/envs/ee2d923d-2aab-451e-8d78-1fbdc487711a/contents/6d868170-f1ac-4a6d-9c26-ce9bfff6a423/1c4513dc-a90e-4593-896f-19dbfccb7743_t?TOKEN=exp=1714458748~acl=/ugc-prd/projects/dec49a5b-f225-4337-9ffb-3d095b81a994/envs/ee2d923d-2aab-451e-8d78-1fbdc487711a/contents/6d868170-f1ac-4a6d-9c26-ce9bfff6a423/*~hmac=ad6b8fe0527808bdd9dacc559e438a7a817f2db417212d523c2eeffa4df09c9f\",\"downloadUrl\":\"https://ugc-prd.unity3d.com/ugc-prd/projects/dec49a5b-f225-4337-9ffb-3d095b81a994/envs/ee2d923d-2aab-451e-8d78-1fbdc487711a/contents/6d868170-f1ac-4a6d-9c26-ce9bfff6a423/1c4513dc-a90e-4593-896f-19dbfccb7743_c?TOKEN=exp=1714458748~acl=/ugc-prd/projects/dec49a5b-f225-4337-9ffb-3d095b81a994/envs/ee2d923d-2aab-451e-8d78-1fbdc487711a/contents/6d868170-f1ac-4a6d-9c26-ce9bfff6a423/*~hmac=ad6b8fe0527808bdd9dacc559e438a7a817f2db417212d523c2eeffa4df09c9f\",\"portalUrl\":\"https://ugc-web.prd.mz.internal.unity3d.com//projects/dec49a5b-f225-4337-9ffb-3d095b81a994/environments/ee2d923d-2aab-451e-8d78-1fbdc487711a/contents/6d868170-f1ac-4a6d-9c26-ce9bfff6a423\",\"contentMd5Hash\":\"nei8339ecvB5B1zsXYKbzg==\",\"thumbnailMd5Hash\":\"E7EloozzVnRZeFEmUNQNsA==\",\"metadata\":\"{\\\\\"accuracy\\\\\": 1.0, \\\\\"stability\\\\\": 0.5, \\\\\"winTransaction\\\\\": 3}\",\"tags\":[{\"id\":\"e9c9ee8e-0efe-4652-bdae-abc643e83a38\",\"name\":\"material\",\"projectId\":null,\"environmentId\":null}],\"discoveryTags\":null,\"averageRating\":null,\"ratingCount\":null,\"subscriptionCount\":null,\"statistics\":null,\"isUserSubscribed\":false,\"assetUploadStatus\":\"success\",\"thumbnailUploadStatus\":\"success\",\"webhookEventName\":null},{\"id\":\"dbeda902-9cae-450f-9f93-73db20c12331\",\"name\":\"oZFhVsAuYjXVfx1C6B2K8LMY4sN2_material_0\",\"customId\":null,\"description\":\"A another new description!\",\"visibility\":\"public\",\"moderationStatus\":\"approved\",\"version\":\"1ff29f6b-de0f-410b-82a7-9dd867b7647f\",\"createdAt\":\"2024-04-17T08:25:41.680941Z\",\"updatedAt\":\"2024-04-19T11:10:57.714062Z\",\"deletedAt\":null,\"projectId\":\"dec49a5b-f225-4337-9ffb-3d095b81a994\",\"environmentId\":\"ee2d923d-2aab-451e-8d78-1fbdc487711a\",\"creatorAccountId\":\"oZFhVsAuYjXVfx1C6B2K8LMY4sN2\",\"thumbnailUrl\":\"https://ugc-prd.unity3d.com/ugc-prd/projects/dec49a5b-f225-4337-9ffb-3d095b81a994/envs/ee2d923d-2aab-451e-8d78-1fbdc487711a/contents/dbeda902-9cae-450f-9f93-73db20c12331/1ff29f6b-de0f-410b-82a7-9dd867b7647f_t?TOKEN=exp=1714458748~acl=/ugc-prd/projects/dec49a5b-f225-4337-9ffb-3d095b81a994/envs/ee2d923d-2aab-451e-8d78-1fbdc487711a/contents/dbeda902-9cae-450f-9f93-73db20c12331/*~hmac=e42b10d566d95f05b741ef3ffda1326ba859e47ed3df5f60e038d58d123e6f13\",\"downloadUrl\":\"https://ugc-prd.unity3d.com/ugc-prd/projects/dec49a5b-f225-4337-9ffb-3d095b81a994/envs/ee2d923d-2aab-451e-8d78-1fbdc487711a/contents/dbeda902-9cae-450f-9f93-73db20c12331/1ff29f6b-de0f-410b-82a7-9dd867b7647f_c?TOKEN=exp=1714458748~acl=/ugc-prd/projects/dec49a5b-f225-4337-9ffb-3d095b81a994/envs/ee2d923d-2aab-451e-8d78-1fbdc487711a/contents/dbeda902-9cae-450f-9f93-73db20c12331/*~hmac=e42b10d566d95f05b741ef3ffda1326ba859e47ed3df5f60e038d58d123e6f13\",\"portalUrl\":\"https://ugc-web.prd.mz.internal.unity3d.com//projects/dec49a5b-f225-4337-9ffb-3d095b81a994/environments/ee2d923d-2aab-451e-8d78-1fbdc487711a/contents/dbeda902-9cae-450f-9f93-73db20c12331\",\"contentMd5Hash\":\"222eQc3g9lR9cn5etpC+Nw==\",\"thumbnailMd5Hash\":\"E7EloozzVnRZeFEmUNQNsA==\",\"metadata\":\"{\\\\\"accuracy\\\\\": 1.0, \\\\\"stability\\\\\": 0.5, \\\\\"winTransaction\\\\\": 3}\",\"tags\":[{\"id\":\"e9c9ee8e-0efe-4652-bdae-abc643e83a38\",\"name\":\"material\",\"projectId\":null,\"environmentId\":null}],\"discoveryTags\":null,\"averageRating\":null,\"ratingCount\":null,\"subscriptionCount\":null,\"statistics\":null,\"isUserSubscribed\":false,\"assetUploadStatus\":\"success\",\"thumbnailUploadStatus\":\"success\",\"webhookEventName\":null},{\"id\":\"a34957e4-601e-49b7-86e2-6c6c04584545\",\"name\":\"oZFhVsAuYjXVfx1C6B2K8LMY4sN2_material_0\",\"customId\":null,\"description\":\"A another new description!\",\"visibility\":\"public\",\"moderationStatus\":\"approved\",\"version\":\"2a980043-fe3b-403b-ac3b-a7b4bad9a9b8\",\"createdAt\":\"2024-04-17T10:01:07.815421Z\",\"updatedAt\":\"2024-04-19T11:10:58.012172Z\",\"deletedAt\":null,\"projectId\":\"dec49a5b-f225-4337-9ffb-3d095b81a994\",\"environmentId\":\"ee2d923d-2aab-451e-8d78-1fbdc487711a\",\"creatorAccountId\":\"oZFhVsAuYjXVfx1C6B2K8LMY4sN2\",\"thumbnailUrl\":\"https://ugc-prd.unity3d.com/ugc-prd/projects/dec49a5b-f225-4337-9ffb-3d095b81a994/envs/ee2d923d-2aab-451e-8d78-1fbdc487711a/contents/a34957e4-601e-49b7-86e2-6c6c04584545/2a980043-fe3b-403b-ac3b-a7b4bad9a9b8_t?TOKEN=exp=1714458748~acl=/ugc-prd/projects/dec49a5b-f225-4337-9ffb-3d095b81a994/envs/ee2d923d-2aab-451e-8d78-1fbdc487711a/contents/a34957e4-601e-49b7-86e2-6c6c04584545/*~hmac=6eb9bc478fd290540c7e303c3a9420f878e20a72bdc95c9be3911298145c61db\",\"downloadUrl\":\"https://ugc-prd.unity3d.com/ugc-prd/projects/dec49a5b-f225-4337-9ffb-3d095b81a994/envs/ee2d923d-2aab-451e-8d78-1fbdc487711a/contents/a34957e4-601e-49b7-86e2-6c6c04584545/2a980043-fe3b-403b-ac3b-a7b4bad9a9b8_c?TOKEN=exp=1714458748~acl=/ugc-prd/projects/dec49a5b-f225-4337-9ffb-3d095b81a994/envs/ee2d923d-2aab-451e-8d78-1fbdc487711a/contents/a34957e4-601e-49b7-86e2-6c6c04584545/*~hmac=6eb9bc478fd290540c7e303c3a9420f878e20a72bdc95c9be3911298145c61db\",\"portalUrl\":\"https://ugc-web.prd.mz.internal.unity3d.com//projects/dec49a5b-f225-4337-9ffb-3d095b81a994/environments/ee2d923d-2aab-451e-8d78-1fbdc487711a/contents/a34957e4-601e-49b7-86e2-6c6c04584545\",\"contentMd5Hash\":\"gkO6ychamN3GdzfebbH9xg==\",\"thumbnailMd5Hash\":\"E7EloozzVnRZeFEmUNQNsA==\",\"metadata\":\"{\\\\\"accuracy\\\\\": 1.0, \\\\\"stability\\\\\": 0.5, \\\\\"winTransaction\\\\\": 3}\",\"tags\":[{\"id\":\"e9c9ee8e-0efe-4652-bdae-abc643e83a38\",\"name\":\"material\",\"projectId\":null,\"environmentId\":null}],\"discoveryTags\":null,\"averageRating\":null,\"ratingCount\":null,\"subscriptionCount\":null,\"statistics\":null,\"isUserSubscribed\":false,\"assetUploadStatus\":\"success\",\"thumbnailUploadStatus\":\"success\",\"webhookEventName\":null},{\"id\":\"7a925f8b-83e6-4de3-832c-90b9d08ea210\",\"name\":\"Admin_Add_Content\",\"customId\":null,\"description\":\"Test Admin add content\",\"visibility\":\"public\",\"moderationStatus\":\"approved\",\"version\":\"6472626a-8a38-4672-b7e9-334437b59af8\",\"createdAt\":\"2024-04-18T06:25:20.804439Z\",\"updatedAt\":\"2024-04-18T06:39:36.893817Z\",\"deletedAt\":null,\"projectId\":\"dec49a5b-f225-4337-9ffb-3d095b81a994\",\"environmentId\":\"ee2d923d-2aab-451e-8d78-1fbdc487711a\",\"creatorAccountId\":\"z26Ub3tjLn2ToBjMO9Fqy1mVPYJq\",\"thumbnailUrl\":\"https://ugc-prd.unity3d.com/ugc-prd/projects/dec49a5b-f225-4337-9ffb-3d095b81a994/envs/ee2d923d-2aab-451e-8d78-1fbdc487711a/contents/7a925f8b-83e6-4de3-832c-90b9d08ea210/6472626a-8a38-4672-b7e9-334437b59af8_t?TOKEN=exp=1714458748~acl=/ugc-prd/projects/dec49a5b-f225-4337-9ffb-3d095b81a994/envs/ee2d923d-2aab-451e-8d78-1fbdc487711a/contents/7a925f8b-83e6-4de3-832c-90b9d08ea210/*~hmac=0715c6a3435e537c3b2cb3f71d007d98a3de5f5415846bd591046250a355d3c1\",\"downloadUrl\":\"https://ugc-prd.unity3d.com/ugc-prd/projects/dec49a5b-f225-4337-9ffb-3d095b81a994/envs/ee2d923d-2aab-451e-8d78-1fbdc487711a/contents/7a925f8b-83e6-4de3-832c-90b9d08ea210/6472626a-8a38-4672-b7e9-334437b59af8_c?TOKEN=exp=1714458748~acl=/ugc-prd/projects/dec49a5b-f225-4337-9ffb-3d095b81a994/envs/ee2d923d-2aab-451e-8d78-1fbdc487711a/contents/7a925f8b-83e6-4de3-832c-90b9d08ea210/*~hmac=0715c6a3435e537c3b2cb3f71d007d98a3de5f5415846bd591046250a355d3c1\",\"portalUrl\":\"https://ugc-web.prd.mz.internal.unity3d.com//projects/dec49a5b-f225-4337-9ffb-3d095b81a994/environments/ee2d923d-2aab-451e-8d78-1fbdc487711a/contents/7a925f8b-83e6-4de3-832c-90b9d08ea210\",\"contentMd5Hash\":\"VgKbdHgUpNwvwGtIfbIJRg==\",\"thumbnailMd5Hash\":null,\"metadata\":null,\"tags\":[],\"discoveryTags\":null,\"averageRating\":null,\"ratingCount\":null,\"subscriptionCount\":null,\"statistics\":null,\"isUserSubscribed\":false,\"assetUploadStatus\":\"success\",\"thumbnailUploadStatus\":\"none\",\"webhookEventName\":null},{\"id\":\"a8928657-655a-41a1-ac32-461280f07691\",\"name\":\"Admin_Add_Content\",\"customId\":null,\"description\":\"Test Admin add content\",\"visibility\":\"public\",\"moderationStatus\":\"approved\",\"version\":\"d17785ee-3e49-467e-968d-8bd352437fd3\",\"createdAt\":\"2024-04-29T12:46:46.030683Z\",\"updatedAt\":\"2024-04-29T12:47:22.301384Z\",\"deletedAt\":null,\"projectId\":\"dec49a5b-f225-4337-9ffb-3d095b81a994\",\"environmentId\":\"ee2d923d-2aab-451e-8d78-1fbdc487711a\",\"creatorAccountId\":\"z26Ub3tjLn2ToBjMO9Fqy1mVPYJq\",\"thumbnailUrl\":\"https://ugc-prd.unity3d.com/ugc-prd/projects/dec49a5b-f225-4337-9ffb-3d095b81a994/envs/ee2d923d-2aab-451e-8d78-1fbdc487711a/contents/a8928657-655a-41a1-ac32-461280f07691/d17785ee-3e49-467e-968d-8bd352437fd3_t?TOKEN=exp=1714458748~acl=/ugc-prd/projects/dec49a5b-f225-4337-9ffb-3d095b81a994/envs/ee2d923d-2aab-451e-8d78-1fbdc487711a/contents/a8928657-655a-41a1-ac32-461280f07691/*~hmac=0898a92dbaadeed93b61ff7380def4a4a6b54bc3aedc496d04de1dcefdcaa170\",\"downloadUrl\":\"https://ugc-prd.unity3d.com/ugc-prd/projects/dec49a5b-f225-4337-9ffb-3d095b81a994/envs/ee2d923d-2aab-451e-8d78-1fbdc487711a/contents/a8928657-655a-41a1-ac32-461280f07691/d17785ee-3e49-467e-968d-8bd352437fd3_c?TOKEN=exp=1714458748~acl=/ugc-prd/projects/dec49a5b-f225-4337-9ffb-3d095b81a994/envs/ee2d923d-2aab-451e-8d78-1fbdc487711a/contents/a8928657-655a-41a1-ac32-461280f07691/*~hmac=0898a92dbaadeed93b61ff7380def4a4a6b54bc3aedc496d04de1dcefdcaa170\",\"portalUrl\":\"https://ugc-web.prd.mz.internal.unity3d.com//projects/dec49a5b-f225-4337-9ffb-3d095b81a994/environments/ee2d923d-2aab-451e-8d78-1fbdc487711a/contents/a8928657-655a-41a1-ac32-461280f07691\",\"contentMd5Hash\":\"S5lq6qcLv8xqB7ub1hTsEw==\",\"thumbnailMd5Hash\":null,\"metadata\":null,\"tags\":[],\"discoveryTags\":null,\"averageRating\":null,\"ratingCount\":null,\"subscriptionCount\":null,\"statistics\":null,\"isUserSubscribed\":false,\"assetUploadStatus\":\"success\",\"thumbnailUploadStatus\":\"none\",\"webhookEventName\":null},{\"id\":\"d30ec280-57a2-43da-b675-cb460fbf4821\",\"name\":\"oZFhVsAuYjXVfx1C6B2K8LMY4sN2__12_features\",\"customId\":null,\"description\":\"Test create new model\",\"visibility\":\"public\",\"moderationStatus\":\"approved\",\"version\":\"f78562ec-7449-4fc6-89cb-3b17722a0773\",\"createdAt\":\"2024-04-29T12:49:26.740584Z\",\"updatedAt\":\"2024-04-29T12:56:10.00395Z\",\"deletedAt\":null,\"projectId\":\"dec49a5b-f225-4337-9ffb-3d095b81a994\",\"environmentId\":\"ee2d923d-2aab-451e-8d78-1fbdc487711a\",\"creatorAccountId\":\"z26Ub3tjLn2ToBjMO9Fqy1mVPYJq\",\"thumbnailUrl\":\"https://ugc-prd.unity3d.com/ugc-prd/projects/dec49a5b-f225-4337-9ffb-3d095b81a994/envs/ee2d923d-2aab-451e-8d78-1fbdc487711a/contents/d30ec280-57a2-43da-b675-cb460fbf4821/f78562ec-7449-4fc6-89cb-3b17722a0773_t?TOKEN=exp=1714458748~acl=/ugc-prd/projects/dec49a5b-f225-4337-9ffb-3d095b81a994/envs/ee2d923d-2aab-451e-8d78-1fbdc487711a/contents/d30ec280-57a2-43da-b675-cb460fbf4821/*~hmac=9b712ebfde86188063f6dfa77e5e58e66e31193f17764478c2f8b86fa8d0e48d\",\"downloadUrl\":\"https://ugc-prd.unity3d.com/ugc-prd/projects/dec49a5b-f225-4337-9ffb-3d095b81a994/envs/ee2d923d-2aab-451e-8d78-1fbdc487711a/contents/d30ec280-57a2-43da-b675-cb460fbf4821/f78562ec-7449-4fc6-89cb-3b17722a0773_c?TOKEN=exp=1714458748~acl=/ugc-prd/projects/dec49a5b-f225-4337-9ffb-3d095b81a994/envs/ee2d923d-2aab-451e-8d78-1fbdc487711a/contents/d30ec280-57a2-43da-b675-cb460fbf4821/*~hmac=9b712ebfde86188063f6dfa77e5e58e66e31193f17764478c2f8b86fa8d0e48d\",\"portalUrl\":\"https://ugc-web.prd.mz.internal.unity3d.com//projects/dec49a5b-f225-4337-9ffb-3d095b81a994/environments/ee2d923d-2aab-451e-8d78-1fbdc487711a/contents/d30ec280-57a2-43da-b675-cb460fbf4821\",\"contentMd5Hash\":\"S5lq6qcLv8xqB7ub1hTsEw==\",\"thumbnailMd5Hash\":null,\"metadata\":null,\"tags\":[],\"discoveryTags\":null,\"averageRating\":null,\"ratingCount\":null,\"subscriptionCount\":null,\"statistics\":null,\"isUserSubscribed\":false,\"assetUploadStatus\":\"success\",\"thumbnailUploadStatus\":\"none\",\"webhookEventName\":null}]}'"
      ]
     },
     "execution_count": 2,
     "metadata": {},
     "output_type": "execute_result"
    }
   ],
   "source": [
    "url = f\"https://services.api.unity.com/ugc/v1/projects/{project_id}/environments/{environment_id}/content/search\"\n",
    "method = \"GET\"\n",
    "headers = {\"Authorization\": SERVICE_ACCOUNT_CREDENTIALS}\n",
    "# params = {\"filters\": [\"visibility,eq,private\"]}\n",
    "response5 = requests.request(method, url, headers=headers)#,params=params)\n",
    "response5.text"
   ]
  },
  {
   "cell_type": "markdown",
   "id": "76d3413a-5ce5-4974-bac8-f27cdabdd020",
   "metadata": {},
   "source": [
    "#### 3.2. Try to create new content"
   ]
  },
  {
   "cell_type": "markdown",
   "id": "9421b258-f39c-4dd0-8cb1-4b63c6a60fdb",
   "metadata": {},
   "source": [
    "Create a dummy account for UGC posting and set this account as a moderator"
   ]
  },
  {
   "cell_type": "code",
   "execution_count": 3,
   "id": "29f49379-2bb8-494f-b0a5-03e6ff54b886",
   "metadata": {},
   "outputs": [],
   "source": [
    "username = \"BinhLai\"\n",
    "password = \"Imz@16188\""
   ]
  },
  {
   "cell_type": "code",
   "execution_count": 83,
   "id": "ddd8a859-a72f-4fa0-9a6b-b62a5ca3f9e3",
   "metadata": {},
   "outputs": [],
   "source": [
    "# url = \"https://player-auth.services.api.unity.com/v1/authentication/usernamepassword/sign-up\"\n",
    "# method = \"POST\"\n",
    "# headers = {\"ProjectId\": project_id,\"UnityEnvironment\":\"dev\"}\n",
    "# json = {\"username\":username,\"password\":password}\n",
    "# response8 = requests.request(method, url, headers=headers,json=json)\n",
    "# response8.text"
   ]
  },
  {
   "cell_type": "markdown",
   "id": "f404a786-851f-48a2-bfc6-2a63f8e9a1f0",
   "metadata": {},
   "source": [
    "Sign in the dummpy account"
   ]
  },
  {
   "cell_type": "code",
   "execution_count": 4,
   "id": "83a076a1-d662-4c00-a08c-c79353549ab2",
   "metadata": {},
   "outputs": [
    {
     "data": {
      "text/plain": [
       "'{\"expiresIn\":3599,\"idToken\":\"eyJhbGciOiJSUzI1NiIsImtpZCI6InB1YmxpYzo2NzQ2QjA5NC0zODNCLTRFMDYtQjA0OS04OUU4MTU1NjdBOUQiLCJ0eXAiOiJKV1QifQ.eyJhdWQiOlsiaWRkOjUzMzJjYmM3LTM5ODQtNGRlYi04NzIxLWFjNDhhZGQ0NWU0ZiIsImVudk5hbWU6ZGV2IiwiZW52SWQ6ZWUyZDkyM2QtMmFhYi00NTFlLThkNzgtMWZiZGM0ODc3MTFhIiwidXBpZDpkZWM0OWE1Yi1mMjI1LTQzMzctOWZmYi0zZDA5NWI4MWE5OTQiXSwiZXhwIjoxNzE0NDYyMDU2LCJpYXQiOjE3MTQ0NTg0NTYsImlkZCI6IjUzMzJjYmM3LTM5ODQtNGRlYi04NzIxLWFjNDhhZGQ0NWU0ZiIsImlzcyI6Imh0dHBzOi8vcGxheWVyLWF1dGguc2VydmljZXMuYXBpLnVuaXR5LmNvbSIsImp0aSI6IjBkZGYwODlmLTdjMjktNDhhNi05NzUzLWM1OWFmYTQ1ZGEyNCIsIm5iZiI6MTcxNDQ1ODQ1NiwicHJvamVjdF9pZCI6ImRlYzQ5YTViLWYyMjUtNDMzNy05ZmZiLTNkMDk1YjgxYTk5NCIsInNpZ25faW5fcHJvdmlkZXIiOiJ1c2VybmFtZXBhc3N3b3JkIiwic3ViIjoiejI2VWIzdGpMbjJUb0JqTU85RnF5MW1WUFlKcSIsInRva2VuX3R5cGUiOiJhdXRoZW50aWNhdGlvbiIsInZlcnNpb24iOiIxIn0.NAy4wZzHUD8Wl38xvqvcFcR5vNmc4doYbyqGL-AIushnoN9THt-7WgPuY0_dZwBmH7baPsBxwrfODvfUL3CtvOwTgu3C_ajkz47GfBRcu4PAnI5bTf0SyoRrTWizvx4S5zOnlFCqywB7nRCRiQx5Tnl1mXRjJ-m8t-nWZvOe6CPosWHHelxwhI71-L4wtrUrM7VSsJVu5xfuIPJOr-vQSZmvk6O98JcUvlDscPg_6jg3pYvsN_biePCQ7yMWQORnNQ0eUMFsZ33IMYFnfihj5WMWNGA1l-hL8i3WpknDG-MW08pkE-DWFSXjBZzrK3lZWP3XonEBD-XWsc-2QAj-RQ\",\"sessionToken\":\"Q0m6C80GtmhZ3aYPUWYIz_JgHiPGEj0NGh_-hqlXp5dUOziUNaq_f8v5cK3d48hC1TXz8T0BIoa-eorPlJzkanl8EHX_XeZbigWKLvfzSKx5GPGvqHG8yFaH7fyQt_1UDMAkJR2tHbmgMCK1ajTT_wf2IVtPMAFkmn_O98H2nLQ.5KTPghOGT5F3mCYPX4qYu-hVsPbIyHvz-eooIccqG0I\",\"user\":{\"disabled\":false,\"externalIds\":[],\"id\":\"z26Ub3tjLn2ToBjMO9Fqy1mVPYJq\",\"username\":\"binhlai\"},\"userId\":\"z26Ub3tjLn2ToBjMO9Fqy1mVPYJq\"}\\n'"
      ]
     },
     "execution_count": 4,
     "metadata": {},
     "output_type": "execute_result"
    }
   ],
   "source": [
    "url = \"https://player-auth.services.api.unity.com/v1/authentication/usernamepassword/sign-in\"\n",
    "method = \"POST\"\n",
    "headers = {\"ProjectId\": project_id,\"UnityEnvironment\":\"dev\"}\n",
    "json = {\"username\":username,\"password\":password}\n",
    "response9 = requests.request(method, url, headers=headers,json=json)\n",
    "response9.text"
   ]
  },
  {
   "cell_type": "code",
   "execution_count": 5,
   "id": "ae9af199-509c-4402-85c8-d52aac7a8e6d",
   "metadata": {},
   "outputs": [],
   "source": [
    "session_token = json_loads(response9.text)\n",
    "session_token = session_token['idToken']"
   ]
  },
  {
   "cell_type": "markdown",
   "id": "7fcc4566-3533-4d19-bb2b-449bc473a058",
   "metadata": {},
   "source": [
    "Try to post player's content"
   ]
  },
  {
   "cell_type": "code",
   "execution_count": 10,
   "id": "ec844d76-5b06-471d-8244-6a05874618d9",
   "metadata": {
    "scrolled": true
   },
   "outputs": [],
   "source": [
    "# url = f\"https://ugc.services.api.unity.com/v1/projects/{project_id}/environments/{environment_id}/content\"\n",
    "# method = \"POST\"\n",
    "# headers = {\"Authorization\": f\"Bearer {session_token}\"}\n",
    "# json = {'name': \"Admin_Add_Content\", \"description\": \"Test Admin add content\", \"visibility\": \"public\"}\n",
    "# response10 = requests.request(method, url, headers=headers, json=json)\n",
    "# response10.text"
   ]
  },
  {
   "cell_type": "code",
   "execution_count": 10,
   "id": "bf9a821d-d89c-4530-b169-7afcffb5e22e",
   "metadata": {
    "scrolled": true
   },
   "outputs": [],
   "source": [
    "# upload_data = json_loads(response8.text)\n",
    "# signedUrl = upload_data[\"uploadContentUrl\"]\n",
    "# httpMethod = \"PUT\"\n",
    "# requiredHeaders = upload_data[\"uploadContentHeaders\"]\n",
    "# headers = {key: value[0] for key, value in requiredHeaders.items()}\n",
    "\n",
    "# data = content\n",
    "# response11 = requests.request(url=signedUrl, method=httpMethod, headers=headers, data=data)\n",
    "# response11.text"
   ]
  },
  {
   "cell_type": "markdown",
   "id": "4f9f5f0d-e8db-4de1-882b-309f4db25dcf",
   "metadata": {},
   "source": [
    "#### 3.3. Content subscription"
   ]
  },
  {
   "cell_type": "markdown",
   "id": "826df452-25df-47bb-94dc-ca4dc9cfb5aa",
   "metadata": {},
   "source": [
    "Check if a certain piece of content is subscribed by the current user"
   ]
  },
  {
   "cell_type": "code",
   "execution_count": 111,
   "id": "483f530c-cd20-4fbd-8755-ffa262f538fe",
   "metadata": {},
   "outputs": [
    {
     "name": "stderr",
     "output_type": "stream",
     "text": [
      "2024-04-18 10:15:17,405 urllib3.connectionpool [DEBUG] - Starting new HTTPS connection (1): ugc.services.api.unity.com:443\n",
      "2024-04-18 10:15:17,629 urllib3.connectionpool [DEBUG] - https://ugc.services.api.unity.com:443 \"POST /v1/subscriptions/projects/dec49a5b-f225-4337-9ffb-3d095b81a994/environments/ee2d923d-2aab-451e-8d78-1fbdc487711a/content/7a925f8b-83e6-4de3-832c-90b9d08ea210 HTTP/1.1\" 404 189\n"
     ]
    },
    {
     "data": {
      "text/plain": [
       "'{\"status\":404,\"title\":\"Not Found\",\"type\":\"https://services.docs.unity.com/docs/errors/#54\",\"requestId\":\"1b77b2aa-1b6a-4558-abcf-0279b45a27f3\",\"detail\":\"Object could not be found\",\"code\":54}'"
      ]
     },
     "execution_count": 111,
     "metadata": {},
     "output_type": "execute_result"
    }
   ],
   "source": [
    "# content_id = upload_data['content']['id']\n",
    "# url = f\"https://ugc.services.api.unity.com/v1/subscriptions/projects/{project_id}/environments/{environment_id}/content/{content_id}\"\n",
    "# method = \"POST\"\n",
    "# headers = {\"Authorization\": f\"Bearer {session_token}\"}\n",
    "# response12 = requests.request(method, url, headers=headers)\n",
    "# response12.text"
   ]
  },
  {
   "cell_type": "markdown",
   "id": "0d94089b-b669-4603-b4fb-3822500f82c4",
   "metadata": {},
   "source": [
    "Try get a content by it's Id"
   ]
  },
  {
   "cell_type": "code",
   "execution_count": 114,
   "id": "f3472164-1bdd-4818-803b-3a35f54df8e4",
   "metadata": {},
   "outputs": [
    {
     "name": "stderr",
     "output_type": "stream",
     "text": [
      "2024-04-18 10:15:48,076 urllib3.connectionpool [DEBUG] - Starting new HTTPS connection (1): services.api.unity.com:443\n",
      "2024-04-18 10:15:48,371 urllib3.connectionpool [DEBUG] - https://services.api.unity.com:443 \"GET /ugc/v1/projects/dec49a5b-f225-4337-9ffb-3d095b81a994/environments/ee2d923d-2aab-451e-8d78-1fbdc487711a/content/7a925f8b-83e6-4de3-832c-90b9d08ea210 HTTP/1.1\" 200 None\n"
     ]
    },
    {
     "data": {
      "text/plain": [
       "'{\"id\":\"7a925f8b-83e6-4de3-832c-90b9d08ea210\",\"name\":\"Admin_Add_Content\",\"customId\":null,\"description\":\"Test Admin add content\",\"visibility\":\"public\",\"moderationStatus\":\"approved\",\"version\":\"6472626a-8a38-4672-b7e9-334437b59af8\",\"createdAt\":\"2024-04-18T06:25:20.804439Z\",\"updatedAt\":\"2024-04-18T06:39:36.893817Z\",\"deletedAt\":null,\"projectId\":\"dec49a5b-f225-4337-9ffb-3d095b81a994\",\"environmentId\":\"ee2d923d-2aab-451e-8d78-1fbdc487711a\",\"creatorAccountId\":\"z26Ub3tjLn2ToBjMO9Fqy1mVPYJq\",\"thumbnailUrl\":\"https://ugc-prd.unity3d.com/ugc-prd/projects/dec49a5b-f225-4337-9ffb-3d095b81a994/envs/ee2d923d-2aab-451e-8d78-1fbdc487711a/contents/7a925f8b-83e6-4de3-832c-90b9d08ea210/6472626a-8a38-4672-b7e9-334437b59af8_t?TOKEN=exp=1713424819~acl=/ugc-prd/projects/dec49a5b-f225-4337-9ffb-3d095b81a994/envs/ee2d923d-2aab-451e-8d78-1fbdc487711a/contents/7a925f8b-83e6-4de3-832c-90b9d08ea210/*~hmac=983b00e5d7c2812cdc5f5a950f30567cbebb79a71875f0bd7d59e3c1e88de8d3\",\"downloadUrl\":\"https://ugc-prd.unity3d.com/ugc-prd/projects/dec49a5b-f225-4337-9ffb-3d095b81a994/envs/ee2d923d-2aab-451e-8d78-1fbdc487711a/contents/7a925f8b-83e6-4de3-832c-90b9d08ea210/6472626a-8a38-4672-b7e9-334437b59af8_c?TOKEN=exp=1713424819~acl=/ugc-prd/projects/dec49a5b-f225-4337-9ffb-3d095b81a994/envs/ee2d923d-2aab-451e-8d78-1fbdc487711a/contents/7a925f8b-83e6-4de3-832c-90b9d08ea210/*~hmac=983b00e5d7c2812cdc5f5a950f30567cbebb79a71875f0bd7d59e3c1e88de8d3\",\"portalUrl\":\"https://ugc-web.prd.mz.internal.unity3d.com//projects/dec49a5b-f225-4337-9ffb-3d095b81a994/environments/ee2d923d-2aab-451e-8d78-1fbdc487711a/contents/7a925f8b-83e6-4de3-832c-90b9d08ea210\",\"contentMd5Hash\":\"VgKbdHgUpNwvwGtIfbIJRg==\",\"thumbnailMd5Hash\":null,\"metadata\":null,\"tags\":[],\"discoveryTags\":null,\"averageRating\":null,\"ratingCount\":null,\"subscriptionCount\":null,\"statistics\":null,\"isUserSubscribed\":false,\"assetUploadStatus\":\"success\",\"thumbnailUploadStatus\":\"none\",\"webhookEventName\":null}'"
      ]
     },
     "execution_count": 114,
     "metadata": {},
     "output_type": "execute_result"
    }
   ],
   "source": [
    "url = f\"https://services.api.unity.com/ugc/v1/projects/{project_id}/environments/{environment_id}/content/{content_id}\"\n",
    "method = \"GET\"\n",
    "headers = {\"Authorization\": SERVICE_ACCOUNT_CREDENTIALS}\n",
    "response13 = requests.request(method, url, headers=headers)\n",
    "response13.text"
   ]
  },
  {
   "cell_type": "code",
   "execution_count": 115,
   "id": "bf28e36c-b90b-4586-85dd-4159dba32910",
   "metadata": {},
   "outputs": [
    {
     "ename": "KeyError",
     "evalue": "'Details'",
     "output_type": "error",
     "traceback": [
      "\u001b[0;31m---------------------------------------------------------------------------\u001b[0m",
      "\u001b[0;31mKeyError\u001b[0m                                  Traceback (most recent call last)",
      "Cell \u001b[0;32mIn[115], line 2\u001b[0m\n\u001b[1;32m      1\u001b[0m uploaded_content_id \u001b[38;5;241m=\u001b[39m json_loads(response13\u001b[38;5;241m.\u001b[39mtext)\n\u001b[0;32m----> 2\u001b[0m \u001b[38;5;28mprint\u001b[39m(\u001b[43muploaded_content_id\u001b[49m\u001b[43m[\u001b[49m\u001b[38;5;124;43m'\u001b[39;49m\u001b[38;5;124;43mDetails\u001b[39;49m\u001b[38;5;124;43m'\u001b[39;49m\u001b[43m]\u001b[49m)\n",
      "\u001b[0;31mKeyError\u001b[0m: 'Details'"
     ]
    }
   ],
   "source": [
    "uploaded_content_id = json_loads(response13.text)\n",
    "print(uploaded_content_id['Details'])"
   ]
  },
  {
   "cell_type": "markdown",
   "id": "6c462ab5-499f-44f7-8d98-d28e7ae5e9d7",
   "metadata": {},
   "source": [
    "Update contentId in player's CloudSave"
   ]
  },
  {
   "cell_type": "code",
   "execution_count": 131,
   "id": "b606a9b0-f87d-48ec-bffe-79e087faa87d",
   "metadata": {},
   "outputs": [
    {
     "data": {
      "text/plain": [
       "[{'features': ['gross_profit_margin',\n",
       "   'profit_margin',\n",
       "   'trend_gross_margin',\n",
       "   'eps_on_mp'],\n",
       "  'frequency': 1,\n",
       "  'index': 0,\n",
       "  'lastTrained': '2024-04-16T00:00:00+03:00',\n",
       "  'trainedAmount': 0,\n",
       "  'subscriptionId': '7a925f8b-83e6-4de3-832c-90b9d08ea210'}]"
      ]
     },
     "execution_count": 131,
     "metadata": {},
     "output_type": "execute_result"
    }
   ],
   "source": [
    "model_config['subscriptionId'] = content_id"
   ]
  },
  {
   "cell_type": "code",
   "execution_count": 31,
   "id": "2c6dc0a7-2a34-4f18-98f1-63ac399d5a6c",
   "metadata": {},
   "outputs": [
    {
     "name": "stderr",
     "output_type": "stream",
     "text": [
      "2024-04-18 11:36:01,256 urllib3.connectionpool [DEBUG] - Starting new HTTPS connection (1): services.api.unity.com:443\n",
      "2024-04-18 11:36:01,611 urllib3.connectionpool [DEBUG] - https://services.api.unity.com:443 \"POST /cloud-save/v1/data/projects/dec49a5b-f225-4337-9ffb-3d095b81a994/environments/ee2d923d-2aab-451e-8d78-1fbdc487711a/players/oZFhVsAuYjXVfx1C6B2K8LMY4sN2/items HTTP/1.1\" 200 48\n"
     ]
    },
    {
     "data": {
      "text/plain": [
       "'{\"writeLock\":\"2357c4cc1d01f8bcb85e264f807f4ee7\"}'"
      ]
     },
     "execution_count": 31,
     "metadata": {},
     "output_type": "execute_result"
    }
   ],
   "source": [
    "url = f\"https://services.api.unity.com/cloud-save/v1/data/projects/{project_id}/environments/{environment_id}/players/{player_id}/items\"\n",
    "method = \"POST\"\n",
    "headers = {\"Authorization\": SERVICE_ACCOUNT_CREDENTIALS}\n",
    "json = {\"key\": \"MODELS\", \"value\": config_data['results'][0]['value']}\n",
    "response14 = requests.request(method, url, headers=headers, json=json)\n",
    "response14.text"
   ]
  },
  {
   "cell_type": "markdown",
   "id": "3fa39c18-8143-49d5-b6f4-2c2ca6334c42",
   "metadata": {},
   "source": [
    "## 4. Modify UGC's content"
   ]
  },
  {
   "cell_type": "markdown",
   "id": "a892ea50-8178-4c83-b660-caafb11d8643",
   "metadata": {},
   "source": [
    "Create a dummy account for UGC posting and set this account as a moderator"
   ]
  },
  {
   "cell_type": "code",
   "execution_count": 11,
   "id": "5d2f4140-15e8-4d06-8714-1fa9bb3ffe74",
   "metadata": {},
   "outputs": [],
   "source": [
    "# username = \"BinhLai\"\n",
    "# password = \"Imz@16188\""
   ]
  },
  {
   "cell_type": "code",
   "execution_count": null,
   "id": "4a923de8-ca59-4caa-b3ee-080523a70319",
   "metadata": {},
   "outputs": [],
   "source": [
    "# url = \"https://player-auth.services.api.unity.com/v1/authentication/usernamepassword/sign-up\"\n",
    "# method = \"POST\"\n",
    "# headers = {\"ProjectId\": project_id,\"UnityEnvironment\":\"dev\"}\n",
    "# json = {\"username\":username,\"password\":password}\n",
    "# response8 = requests.request(method, url, headers=headers,json=json)\n",
    "# response8.text"
   ]
  },
  {
   "cell_type": "markdown",
   "id": "afd3ba34-adae-4e6d-adf4-77838286c096",
   "metadata": {},
   "source": [
    "Sign in the dummpy account"
   ]
  },
  {
   "cell_type": "code",
   "execution_count": null,
   "id": "54ec0bcb-17a8-4cbe-a1ac-4cb2a1365c11",
   "metadata": {},
   "outputs": [],
   "source": [
    "# url = \"https://player-auth.services.api.unity.com/v1/authentication/usernamepassword/sign-in\"\n",
    "# method = \"POST\"\n",
    "# headers = {\"ProjectId\": project_id,\"UnityEnvironment\":\"dev\"}\n",
    "# json = {\"username\":username,\"password\":password}\n",
    "# response9 = requests.request(method, url, headers=headers,json=json)\n",
    "# response9.text"
   ]
  },
  {
   "cell_type": "code",
   "execution_count": null,
   "id": "3ec754b0-ec4b-47af-99a4-2edc2200a8ea",
   "metadata": {},
   "outputs": [],
   "source": [
    "# session_token = json_loads(response7.text)\n",
    "# session_token = session_token['idToken']"
   ]
  },
  {
   "cell_type": "markdown",
   "id": "2e9adc19-0217-4fcd-9264-91425104b9be",
   "metadata": {},
   "source": [
    "Get player's contents"
   ]
  },
  {
   "cell_type": "code",
   "execution_count": null,
   "id": "c2419c60-555c-41fd-891a-6362c1f607c9",
   "metadata": {},
   "outputs": [],
   "source": [
    "# url = f\"https://ugc.services.api.unity.com/v1/projects/{project_id}/environments/{environment_id}/content\"\n",
    "# method = \"POST\"\n",
    "# headers = {\"Authorization\": f\"Bearer {session_token}\"}\n",
    "# json = {'name': \"Admin_Add_Content\", \"description\": \"Test Admin add content\", \"visibility\": \"public\"}\n",
    "# response10 = requests.request(method, url, headers=headers, json=json)\n",
    "# response10.text"
   ]
  },
  {
   "cell_type": "markdown",
   "id": "28255cf1-d7c0-4c78-a8a4-fa3708e6d4db",
   "metadata": {},
   "source": [
    "Delete contents"
   ]
  },
  {
   "cell_type": "code",
   "execution_count": null,
   "id": "ee536276-b54c-4bb6-b042-6b4a992fa02a",
   "metadata": {},
   "outputs": [],
   "source": [
    "# for content in contents['results']:\n",
    "#     url = f\"https://services.api.unity.com/ugc/v1/projects/{project_id}/environments/{environment_id}/content/{content['id']}\"\n",
    "#     method = \"DELETE\"\n",
    "#     headers = {\"Authorization\": SERVICE_ACCOUNT_CREDENTIALS}\n",
    "#     response6 = requests.request(method, url, headers=headers)"
   ]
  },
  {
   "cell_type": "markdown",
   "id": "7b3a7a4e-935b-4261-92bc-429d2cd31cc6",
   "metadata": {},
   "source": [
    "Restore content"
   ]
  },
  {
   "cell_type": "code",
   "execution_count": null,
   "id": "fb5d1fec-adb6-4ceb-baa0-aefdf3c94ded",
   "metadata": {},
   "outputs": [],
   "source": [
    "# for content in contents['results']:\n",
    "#     url = f\"https://services.api.unity.com/ugc/v1/projects/{project_id}/environments/{environment_id}/content/{content['id']}/restore\"\n",
    "#     method = \"POST\"\n",
    "#     headers = {\"Authorization\": SERVICE_ACCOUNT_CREDENTIALS}\n",
    "#     response7 = requests.request(method, url, headers=headers)"
   ]
  },
  {
   "cell_type": "markdown",
   "id": "4da2d8e7-ee44-463b-9d13-135cfa779420",
   "metadata": {},
   "source": [
    "Get content by Id"
   ]
  },
  {
   "cell_type": "code",
   "execution_count": 39,
   "id": "49732b55-d506-4e08-a72e-d3e29cfb4e31",
   "metadata": {},
   "outputs": [
    {
     "data": {
      "text/plain": [
       "'{\"id\":\"d30ec280-57a2-43da-b675-cb460fbf4821\",\"name\":\"oZFhVsAuYjXVfx1C6B2K8LMY4sN2__12_features\",\"customId\":null,\"description\":\"Test create new model\",\"visibility\":\"public\",\"moderationStatus\":\"approved\",\"version\":\"f78562ec-7449-4fc6-89cb-3b17722a0773\",\"createdAt\":\"2024-04-29T12:49:26.740584Z\",\"updatedAt\":\"2024-04-30T06:39:17.453128Z\",\"deletedAt\":null,\"projectId\":\"dec49a5b-f225-4337-9ffb-3d095b81a994\",\"environmentId\":\"ee2d923d-2aab-451e-8d78-1fbdc487711a\",\"creatorAccountId\":\"z26Ub3tjLn2ToBjMO9Fqy1mVPYJq\",\"thumbnailUrl\":\"https://ugc-prd.unity3d.com/ugc-prd/projects/dec49a5b-f225-4337-9ffb-3d095b81a994/envs/ee2d923d-2aab-451e-8d78-1fbdc487711a/contents/d30ec280-57a2-43da-b675-cb460fbf4821/f78562ec-7449-4fc6-89cb-3b17722a0773_t?TOKEN=exp=1714459747~acl=/ugc-prd/projects/dec49a5b-f225-4337-9ffb-3d095b81a994/envs/ee2d923d-2aab-451e-8d78-1fbdc487711a/contents/d30ec280-57a2-43da-b675-cb460fbf4821/*~hmac=871b3daaba6218b17594d51d113f5f0aff5ec40ad3403a4e0ab7219862f21c4a\",\"downloadUrl\":\"https://ugc-prd.unity3d.com/ugc-prd/projects/dec49a5b-f225-4337-9ffb-3d095b81a994/envs/ee2d923d-2aab-451e-8d78-1fbdc487711a/contents/d30ec280-57a2-43da-b675-cb460fbf4821/f78562ec-7449-4fc6-89cb-3b17722a0773_c?TOKEN=exp=1714459747~acl=/ugc-prd/projects/dec49a5b-f225-4337-9ffb-3d095b81a994/envs/ee2d923d-2aab-451e-8d78-1fbdc487711a/contents/d30ec280-57a2-43da-b675-cb460fbf4821/*~hmac=871b3daaba6218b17594d51d113f5f0aff5ec40ad3403a4e0ab7219862f21c4a\",\"portalUrl\":\"https://ugc-web.prd.mz.internal.unity3d.com//projects/dec49a5b-f225-4337-9ffb-3d095b81a994/environments/ee2d923d-2aab-451e-8d78-1fbdc487711a/contents/d30ec280-57a2-43da-b675-cb460fbf4821\",\"contentMd5Hash\":\"S5lq6qcLv8xqB7ub1hTsEw==\",\"thumbnailMd5Hash\":null,\"metadata\":null,\"tags\":[{\"id\":\"be5b3180-2950-463d-b0ae-1d6d3998331b\",\"name\":\"dep_ratio\",\"projectId\":null,\"environmentId\":null},{\"id\":\"b2f4be22-59bb-44d2-9f43-d4c7fd1b7390\",\"name\":\"sga_ratio\",\"projectId\":null,\"environmentId\":null},{\"id\":\"3663ac1a-9cfb-49d9-a9dc-f4758338cc32\",\"name\":\"dividend_on_mp\",\"projectId\":null,\"environmentId\":null},{\"id\":\"2e9244ec-407a-41c4-ad8e-0364eccabdc5\",\"name\":\"ebit_on_int\",\"projectId\":null,\"environmentId\":null},{\"id\":\"e9c9ee8e-0efe-4652-bdae-abc643e83a38\",\"name\":\"material\",\"projectId\":null,\"environmentId\":null},{\"id\":\"c87b782f-5f11-483c-b7fa-ce31caf9d11f\",\"name\":\"profit_margin\",\"projectId\":null,\"environmentId\":null},{\"id\":\"d78741ef-788b-4a6c-8351-8db5e22df468\",\"name\":\"gross_profit_margin\",\"projectId\":null,\"environmentId\":null},{\"id\":\"195ce02b-1e20-4c80-973d-586d23a7d4bf\",\"name\":\"eps_on_mp\",\"projectId\":null,\"environmentId\":null}],\"discoveryTags\":null,\"averageRating\":null,\"ratingCount\":null,\"subscriptionCount\":null,\"statistics\":null,\"isUserSubscribed\":false,\"assetUploadStatus\":\"success\",\"thumbnailUploadStatus\":\"none\",\"webhookEventName\":null}'"
      ]
     },
     "execution_count": 39,
     "metadata": {},
     "output_type": "execute_result"
    }
   ],
   "source": [
    "content_id = 'd30ec280-57a2-43da-b675-cb460fbf4821'\n",
    "url = f\"https://services.api.unity.com/ugc/v1/projects/{project_id}/environments/{environment_id}/content/{content_id}\"\n",
    "method = \"GET\"\n",
    "headers = {\"Authorization\": SERVICE_ACCOUNT_CREDENTIALS}\n",
    "response11 = requests.request(method, url, headers=headers)\n",
    "response11.text"
   ]
  },
  {
   "cell_type": "markdown",
   "id": "b5848385-74fd-46ed-a607-232bcc2e554a",
   "metadata": {},
   "source": [
    "Retrieve all tagId"
   ]
  },
  {
   "cell_type": "code",
   "execution_count": 59,
   "id": "bf973729-a069-459f-a3a5-733cd6361d33",
   "metadata": {
    "scrolled": true
   },
   "outputs": [
    {
     "data": {
      "text/plain": [
       "'[{\"id\":\"d78741ef-788b-4a6c-8351-8db5e22df468\",\"name\":\"gross_profit_margin\",\"projectId\":\"dec49a5b-f225-4337-9ffb-3d095b81a994\",\"environmentId\":\"ee2d923d-2aab-451e-8d78-1fbdc487711a\"},{\"id\":\"ef3fc361-7e0e-47af-b030-2d6f350d9fcf\",\"name\":\"trend_profit_margin\",\"projectId\":\"dec49a5b-f225-4337-9ffb-3d095b81a994\",\"environmentId\":\"ee2d923d-2aab-451e-8d78-1fbdc487711a\"},{\"id\":\"8f3638e6-c18e-42c8-a649-f31c15916d08\",\"name\":\"liabilities_on_equity\",\"projectId\":\"dec49a5b-f225-4337-9ffb-3d095b81a994\",\"environmentId\":\"ee2d923d-2aab-451e-8d78-1fbdc487711a\"},{\"id\":\"3663ac1a-9cfb-49d9-a9dc-f4758338cc32\",\"name\":\"dividend_on_mp\",\"projectId\":\"dec49a5b-f225-4337-9ffb-3d095b81a994\",\"environmentId\":\"ee2d923d-2aab-451e-8d78-1fbdc487711a\"},{\"id\":\"e9c9ee8e-0efe-4652-bdae-abc643e83a38\",\"name\":\"material\",\"projectId\":\"dec49a5b-f225-4337-9ffb-3d095b81a994\",\"environmentId\":\"ee2d923d-2aab-451e-8d78-1fbdc487711a\"},{\"id\":\"b2f4be22-59bb-44d2-9f43-d4c7fd1b7390\",\"name\":\"sga_ratio\",\"projectId\":\"dec49a5b-f225-4337-9ffb-3d095b81a994\",\"environmentId\":\"ee2d923d-2aab-451e-8d78-1fbdc487711a\"},{\"id\":\"2e9244ec-407a-41c4-ad8e-0364eccabdc5\",\"name\":\"ebit_on_int\",\"projectId\":\"dec49a5b-f225-4337-9ffb-3d095b81a994\",\"environmentId\":\"ee2d923d-2aab-451e-8d78-1fbdc487711a\"},{\"id\":\"884809be-2b46-46da-89b3-6c5d0a9b1ab7\",\"name\":\"count_positive_profit\",\"projectId\":\"dec49a5b-f225-4337-9ffb-3d095b81a994\",\"environmentId\":\"ee2d923d-2aab-451e-8d78-1fbdc487711a\"},{\"id\":\"b1d7a222-3f9d-4168-8ba5-7f98162262ef\",\"name\":\"debt_on_min_ebit\",\"projectId\":\"dec49a5b-f225-4337-9ffb-3d095b81a994\",\"environmentId\":\"ee2d923d-2aab-451e-8d78-1fbdc487711a\"},{\"id\":\"e9812458-8062-4ef5-af15-983ed07caca1\",\"name\":\"trend_gross_margin\",\"projectId\":\"dec49a5b-f225-4337-9ffb-3d095b81a994\",\"environmentId\":\"ee2d923d-2aab-451e-8d78-1fbdc487711a\"},{\"id\":\"4d65e533-4ccf-47ea-b77b-396dd2597eeb\",\"name\":\"fluc_dep_ratio\",\"projectId\":\"dec49a5b-f225-4337-9ffb-3d095b81a994\",\"environmentId\":\"ee2d923d-2aab-451e-8d78-1fbdc487711a\"},{\"id\":\"a4a941bf-4e0b-443b-85c3-a259160cdb9b\",\"name\":\"model\",\"projectId\":\"dec49a5b-f225-4337-9ffb-3d095b81a994\",\"environmentId\":\"ee2d923d-2aab-451e-8d78-1fbdc487711a\"},{\"id\":\"be5b3180-2950-463d-b0ae-1d6d3998331b\",\"name\":\"dep_ratio\",\"projectId\":\"dec49a5b-f225-4337-9ffb-3d095b81a994\",\"environmentId\":\"ee2d923d-2aab-451e-8d78-1fbdc487711a\"},{\"id\":\"c87b782f-5f11-483c-b7fa-ce31caf9d11f\",\"name\":\"profit_margin\",\"projectId\":\"dec49a5b-f225-4337-9ffb-3d095b81a994\",\"environmentId\":\"ee2d923d-2aab-451e-8d78-1fbdc487711a\"},{\"id\":\"1c48d570-aa18-4d92-8a29-9e64df9929a3\",\"name\":\"csti_on_liabilities\",\"projectId\":\"dec49a5b-f225-4337-9ffb-3d095b81a994\",\"environmentId\":\"ee2d923d-2aab-451e-8d78-1fbdc487711a\"},{\"id\":\"23473191-5a2d-447d-b164-6c4e06946c3e\",\"name\":\"inventory_on_ebit\",\"projectId\":\"dec49a5b-f225-4337-9ffb-3d095b81a994\",\"environmentId\":\"ee2d923d-2aab-451e-8d78-1fbdc487711a\"},{\"id\":\"4dab653c-3b17-42e1-b217-939610674257\",\"name\":\"receivable_on_rev\",\"projectId\":\"dec49a5b-f225-4337-9ffb-3d095b81a994\",\"environmentId\":\"ee2d923d-2aab-451e-8d78-1fbdc487711a\"},{\"id\":\"bad713ef-d000-4b28-9dec-db157dc6770b\",\"name\":\"fluc_rec_on_rev\",\"projectId\":\"dec49a5b-f225-4337-9ffb-3d095b81a994\",\"environmentId\":\"ee2d923d-2aab-451e-8d78-1fbdc487711a\"},{\"id\":\"4e43316f-9537-4328-adb5-a97ac2e395f8\",\"name\":\"roa\",\"projectId\":\"dec49a5b-f225-4337-9ffb-3d095b81a994\",\"environmentId\":\"ee2d923d-2aab-451e-8d78-1fbdc487711a\"},{\"id\":\"f074ce25-9818-4c7d-a538-341fe54a1cb4\",\"name\":\"roe\",\"projectId\":\"dec49a5b-f225-4337-9ffb-3d095b81a994\",\"environmentId\":\"ee2d923d-2aab-451e-8d78-1fbdc487711a\"},{\"id\":\"195ce02b-1e20-4c80-973d-586d23a7d4bf\",\"name\":\"eps_on_mp\",\"projectId\":\"dec49a5b-f225-4337-9ffb-3d095b81a994\",\"environmentId\":\"ee2d923d-2aab-451e-8d78-1fbdc487711a\"},{\"id\":\"da36d545-6b1c-4deb-b8b0-bac119b3f3b7\",\"name\":\"capital_cost_on_ebit\",\"projectId\":\"dec49a5b-f225-4337-9ffb-3d095b81a994\",\"environmentId\":\"ee2d923d-2aab-451e-8d78-1fbdc487711a\"},{\"id\":\"ceb0c5a0-675e-4cb1-a984-a33736c0f46d\",\"name\":\"fluc_sga\",\"projectId\":\"dec49a5b-f225-4337-9ffb-3d095b81a994\",\"environmentId\":\"ee2d923d-2aab-451e-8d78-1fbdc487711a\"},{\"id\":\"f1af47e0-a76d-4b72-9530-eddf4747285f\",\"name\":\"fluc_inv_on_ebit\",\"projectId\":\"dec49a5b-f225-4337-9ffb-3d095b81a994\",\"environmentId\":\"ee2d923d-2aab-451e-8d78-1fbdc487711a\"},{\"id\":\"dd5939d0-232b-456c-b01a-176901198b57\",\"name\":\"mp_on_bv\",\"projectId\":\"dec49a5b-f225-4337-9ffb-3d095b81a994\",\"environmentId\":\"ee2d923d-2aab-451e-8d78-1fbdc487711a\"}]'"
      ]
     },
     "execution_count": 59,
     "metadata": {},
     "output_type": "execute_result"
    }
   ],
   "source": [
    "url = f\"https://services.api.unity.com/ugc/v1/projects/{project_id}/environments/{environment_id}/tags\"\n",
    "method = \"GET\"\n",
    "headers = {\"Authorization\": SERVICE_ACCOUNT_CREDENTIALS}\n",
    "response12 = requests.request(method, url, headers=headers)\n",
    "response12.text"
   ]
  },
  {
   "cell_type": "code",
   "execution_count": 10,
   "id": "c8b48d4d-f4f3-413d-b693-1fafbc69cfce",
   "metadata": {},
   "outputs": [],
   "source": [
    "tags = json_loads(response12.text)"
   ]
  },
  {
   "cell_type": "markdown",
   "id": "fe1ee007-ba54-47cf-a0ad-01edbd2bb90c",
   "metadata": {},
   "source": [
    "Retrieve a specific content based on a certain tagId"
   ]
  },
  {
   "cell_type": "code",
   "execution_count": 65,
   "id": "b588ab49-8067-4eab-b131-37bd50d1ba6e",
   "metadata": {
    "scrolled": true
   },
   "outputs": [
    {
     "name": "stdout",
     "output_type": "stream",
     "text": [
      "https://services.api.unity.com/ugc/v1/projects/dec49a5b-f225-4337-9ffb-3d095b81a994/environments/ee2d923d-2aab-451e-8d78-1fbdc487711a/content/search?tags=d78741ef-788b-4a6c-8351-8db5e22df468&tags=3663ac1a-9cfb-49d9-a9dc-f4758338cc32&tags=b2f4be22-59bb-44d2-9f43-d4c7fd1b7390&tags=2e9244ec-407a-41c4-ad8e-0364eccabdc5&tags=a4a941bf-4e0b-443b-85c3-a259160cdb9b&tags=be5b3180-2950-463d-b0ae-1d6d3998331b&tags=c87b782f-5f11-483c-b7fa-ce31caf9d11f&tags=195ce02b-1e20-4c80-973d-586d23a7d4bf\n",
      "{\"offset\":0,\"limit\":25,\"total\":0,\"results\":[{\"id\":\"d30ec280-57a2-43da-b675-cb460fbf4821\",\"name\":\"oZFhVsAuYjXVfx1C6B2K8LMY4sN2__12_features\",\"customId\":null,\"description\":\"Test create new model\",\"visibility\":\"public\",\"moderationStatus\":\"approved\",\"version\":\"f78562ec-7449-4fc6-89cb-3b17722a0773\",\"createdAt\":\"2024-04-29T12:49:26.740584Z\",\"updatedAt\":\"2024-04-30T06:58:51.042414Z\",\"deletedAt\":null,\"projectId\":\"dec49a5b-f225-4337-9ffb-3d095b81a994\",\"environmentId\":\"ee2d923d-2aab-451e-8d78-1fbdc487711a\",\"creatorAccountId\":\"z26Ub3tjLn2ToBjMO9Fqy1mVPYJq\",\"thumbnailUrl\":\"https://ugc-prd.unity3d.com/ugc-prd/projects/dec49a5b-f225-4337-9ffb-3d095b81a994/envs/ee2d923d-2aab-451e-8d78-1fbdc487711a/contents/d30ec280-57a2-43da-b675-cb460fbf4821/f78562ec-7449-4fc6-89cb-3b17722a0773_t?TOKEN=exp=1714462239~acl=/ugc-prd/projects/dec49a5b-f225-4337-9ffb-3d095b81a994/envs/ee2d923d-2aab-451e-8d78-1fbdc487711a/contents/d30ec280-57a2-43da-b675-cb460fbf4821/*~hmac=c12f78a281e5ef88a2c20eb0e245167b73af60630490df432c9ba39c614270c3\",\"downloadUrl\":\"https://ugc-prd.unity3d.com/ugc-prd/projects/dec49a5b-f225-4337-9ffb-3d095b81a994/envs/ee2d923d-2aab-451e-8d78-1fbdc487711a/contents/d30ec280-57a2-43da-b675-cb460fbf4821/f78562ec-7449-4fc6-89cb-3b17722a0773_c?TOKEN=exp=1714462239~acl=/ugc-prd/projects/dec49a5b-f225-4337-9ffb-3d095b81a994/envs/ee2d923d-2aab-451e-8d78-1fbdc487711a/contents/d30ec280-57a2-43da-b675-cb460fbf4821/*~hmac=c12f78a281e5ef88a2c20eb0e245167b73af60630490df432c9ba39c614270c3\",\"portalUrl\":\"https://ugc-web.prd.mz.internal.unity3d.com//projects/dec49a5b-f225-4337-9ffb-3d095b81a994/environments/ee2d923d-2aab-451e-8d78-1fbdc487711a/contents/d30ec280-57a2-43da-b675-cb460fbf4821\",\"contentMd5Hash\":\"S5lq6qcLv8xqB7ub1hTsEw==\",\"thumbnailMd5Hash\":null,\"metadata\":null,\"tags\":[{\"id\":\"d78741ef-788b-4a6c-8351-8db5e22df468\",\"name\":\"gross_profit_margin\",\"projectId\":null,\"environmentId\":null},{\"id\":\"a4a941bf-4e0b-443b-85c3-a259160cdb9b\",\"name\":\"model\",\"projectId\":null,\"environmentId\":null},{\"id\":\"2e9244ec-407a-41c4-ad8e-0364eccabdc5\",\"name\":\"ebit_on_int\",\"projectId\":null,\"environmentId\":null},{\"id\":\"be5b3180-2950-463d-b0ae-1d6d3998331b\",\"name\":\"dep_ratio\",\"projectId\":null,\"environmentId\":null},{\"id\":\"3663ac1a-9cfb-49d9-a9dc-f4758338cc32\",\"name\":\"dividend_on_mp\",\"projectId\":null,\"environmentId\":null},{\"id\":\"b2f4be22-59bb-44d2-9f43-d4c7fd1b7390\",\"name\":\"sga_ratio\",\"projectId\":null,\"environmentId\":null},{\"id\":\"195ce02b-1e20-4c80-973d-586d23a7d4bf\",\"name\":\"eps_on_mp\",\"projectId\":null,\"environmentId\":null},{\"id\":\"c87b782f-5f11-483c-b7fa-ce31caf9d11f\",\"name\":\"profit_margin\",\"projectId\":null,\"environmentId\":null}],\"discoveryTags\":null,\"averageRating\":null,\"ratingCount\":null,\"subscriptionCount\":null,\"statistics\":null,\"isUserSubscribed\":false,\"assetUploadStatus\":\"success\",\"thumbnailUploadStatus\":\"none\",\"webhookEventName\":null}]}\n"
     ]
    }
   ],
   "source": [
    "url = f\"https://services.api.unity.com/ugc/v1/projects/{project_id}/environments/{environment_id}/content/search\"\n",
    "method = \"GET\"\n",
    "headers = {\"Authorization\": SERVICE_ACCOUNT_CREDENTIALS}\n",
    "# json = {'name': \"Admin_Add_Content\", \"description\": \"Test Admin add content\", \"visibility\": \"public\"}\n",
    "params = {'tags': selected_tags}\n",
    "response10 = requests.request(method, url, headers=headers, params=params)\n",
    "print(response10.url)\n",
    "print(response10.text)"
   ]
  },
  {
   "cell_type": "markdown",
   "id": "db422a93-48fd-492b-a762-e0cadd579e4f",
   "metadata": {},
   "source": [
    "Update content's tags"
   ]
  },
  {
   "cell_type": "code",
   "execution_count": 52,
   "id": "c3dff272-e6d8-45ca-962f-2fd5ec81197b",
   "metadata": {},
   "outputs": [
    {
     "data": {
      "text/plain": [
       "['d78741ef-788b-4a6c-8351-8db5e22df468',\n",
       " '3663ac1a-9cfb-49d9-a9dc-f4758338cc32',\n",
       " 'b2f4be22-59bb-44d2-9f43-d4c7fd1b7390',\n",
       " '2e9244ec-407a-41c4-ad8e-0364eccabdc5',\n",
       " 'a4a941bf-4e0b-443b-85c3-a259160cdb9b',\n",
       " 'be5b3180-2950-463d-b0ae-1d6d3998331b',\n",
       " 'c87b782f-5f11-483c-b7fa-ce31caf9d11f',\n",
       " '195ce02b-1e20-4c80-973d-586d23a7d4bf']"
      ]
     },
     "execution_count": 52,
     "metadata": {},
     "output_type": "execute_result"
    }
   ],
   "source": [
    "selected_tags = [x['id'] for x in tags if (x['name'] in ['model','dep_ratio','dividend_on_mp','ebit_on_int','eps_on_mp',\n",
    "                                                  'gross_profit_margin','profit_margin','sga_ratio'])]\n",
    "selected_tags"
   ]
  },
  {
   "cell_type": "code",
   "execution_count": 53,
   "id": "ea6749d3-4c68-41ed-bc7d-0f986c723bb6",
   "metadata": {},
   "outputs": [],
   "source": [
    "updated_content = json_loads(response11.text)\n",
    "updated_content_name = updated_content['name']\n",
    "updated_content_des = updated_content['description']\n",
    "updated_content_metadata = updated_content['metadata']"
   ]
  },
  {
   "cell_type": "code",
   "execution_count": 54,
   "id": "f38faaa6-a8d6-4f0b-845c-e4ef78674fe0",
   "metadata": {},
   "outputs": [
    {
     "data": {
      "text/plain": [
       "'{\"id\":\"d30ec280-57a2-43da-b675-cb460fbf4821\",\"name\":\"oZFhVsAuYjXVfx1C6B2K8LMY4sN2__12_features\",\"customId\":null,\"description\":\"Test create new model\",\"visibility\":\"public\",\"moderationStatus\":\"approved\",\"version\":\"f78562ec-7449-4fc6-89cb-3b17722a0773\",\"createdAt\":\"2024-04-29T12:49:26.740584Z\",\"updatedAt\":\"2024-04-30T06:58:51.0424148Z\",\"deletedAt\":null,\"projectId\":\"dec49a5b-f225-4337-9ffb-3d095b81a994\",\"environmentId\":\"ee2d923d-2aab-451e-8d78-1fbdc487711a\",\"creatorAccountId\":\"z26Ub3tjLn2ToBjMO9Fqy1mVPYJq\",\"thumbnailUrl\":\"https://ugc-prd.unity3d.com/ugc-prd/projects/dec49a5b-f225-4337-9ffb-3d095b81a994/envs/ee2d923d-2aab-451e-8d78-1fbdc487711a/contents/d30ec280-57a2-43da-b675-cb460fbf4821/f78562ec-7449-4fc6-89cb-3b17722a0773_t?TOKEN=exp=1714460578~acl=/ugc-prd/projects/dec49a5b-f225-4337-9ffb-3d095b81a994/envs/ee2d923d-2aab-451e-8d78-1fbdc487711a/contents/d30ec280-57a2-43da-b675-cb460fbf4821/*~hmac=f0e53970d949615a41939b2e675ad3234adc1d9a5cfe7c68a55909bf392f0cb8\",\"downloadUrl\":\"https://ugc-prd.unity3d.com/ugc-prd/projects/dec49a5b-f225-4337-9ffb-3d095b81a994/envs/ee2d923d-2aab-451e-8d78-1fbdc487711a/contents/d30ec280-57a2-43da-b675-cb460fbf4821/f78562ec-7449-4fc6-89cb-3b17722a0773_c?TOKEN=exp=1714460578~acl=/ugc-prd/projects/dec49a5b-f225-4337-9ffb-3d095b81a994/envs/ee2d923d-2aab-451e-8d78-1fbdc487711a/contents/d30ec280-57a2-43da-b675-cb460fbf4821/*~hmac=f0e53970d949615a41939b2e675ad3234adc1d9a5cfe7c68a55909bf392f0cb8\",\"portalUrl\":\"https://ugc-web.prd.mz.internal.unity3d.com//projects/dec49a5b-f225-4337-9ffb-3d095b81a994/environments/ee2d923d-2aab-451e-8d78-1fbdc487711a/contents/d30ec280-57a2-43da-b675-cb460fbf4821\",\"contentMd5Hash\":\"S5lq6qcLv8xqB7ub1hTsEw==\",\"thumbnailMd5Hash\":null,\"metadata\":null,\"tags\":[{\"id\":\"d78741ef-788b-4a6c-8351-8db5e22df468\",\"name\":\"gross_profit_margin\",\"projectId\":null,\"environmentId\":null},{\"id\":\"3663ac1a-9cfb-49d9-a9dc-f4758338cc32\",\"name\":\"dividend_on_mp\",\"projectId\":null,\"environmentId\":null},{\"id\":\"b2f4be22-59bb-44d2-9f43-d4c7fd1b7390\",\"name\":\"sga_ratio\",\"projectId\":null,\"environmentId\":null},{\"id\":\"2e9244ec-407a-41c4-ad8e-0364eccabdc5\",\"name\":\"ebit_on_int\",\"projectId\":null,\"environmentId\":null},{\"id\":\"a4a941bf-4e0b-443b-85c3-a259160cdb9b\",\"name\":\"model\",\"projectId\":null,\"environmentId\":null},{\"id\":\"be5b3180-2950-463d-b0ae-1d6d3998331b\",\"name\":\"dep_ratio\",\"projectId\":null,\"environmentId\":null},{\"id\":\"c87b782f-5f11-483c-b7fa-ce31caf9d11f\",\"name\":\"profit_margin\",\"projectId\":null,\"environmentId\":null},{\"id\":\"195ce02b-1e20-4c80-973d-586d23a7d4bf\",\"name\":\"eps_on_mp\",\"projectId\":null,\"environmentId\":null}],\"discoveryTags\":null,\"averageRating\":null,\"ratingCount\":null,\"subscriptionCount\":null,\"statistics\":null,\"isUserSubscribed\":false,\"assetUploadStatus\":\"success\",\"thumbnailUploadStatus\":\"none\",\"webhookEventName\":\"OnContentUpdate\"}'"
      ]
     },
     "execution_count": 54,
     "metadata": {},
     "output_type": "execute_result"
    }
   ],
   "source": [
    "url = f\"https://services.api.unity.com/ugc/v1/projects/{project_id}/environments/{environment_id}/content/{content_id}/details\"\n",
    "method = \"PUT\"\n",
    "headers = {\"Authorization\": SERVICE_ACCOUNT_CREDENTIALS}\n",
    "json = {'name': updated_content_name, \"description\": updated_content_des,'metadata': updated_content_metadata, 'tagsId': selected_tags}\n",
    "response13 = requests.request(method, url, headers=headers, json=json)\n",
    "response13.text"
   ]
  },
  {
   "cell_type": "markdown",
   "id": "24432ed7-8440-4900-9442-004af513f6f8",
   "metadata": {},
   "source": [
    "Update content's metadata (as group's inforamtion)"
   ]
  },
  {
   "cell_type": "code",
   "execution_count": 16,
   "id": "e0508fd4-27a4-4255-be39-8684fcc0e56d",
   "metadata": {},
   "outputs": [],
   "source": [
    "# selected_tag = [x for x in tags if x['name'] == 'material'][0]\n",
    "# selected_tag['id']\n",
    "# metadata = dumps({'accuracy': 1.0, 'stability': 0.5, 'winTransaction': 3})\n",
    "# metadata"
   ]
  },
  {
   "cell_type": "code",
   "execution_count": 17,
   "id": "0793501a-f0f3-46b7-9c4e-4d09e3fb64d1",
   "metadata": {},
   "outputs": [],
   "source": [
    "# contents = json_loads(response10.text)['results']\n",
    "\n",
    "# for content in contents:\n",
    "#     content_id = content['id']\n",
    "#     url = f\"https://services.api.unity.com/ugc/v1/projects/{project_id}/environments/{environment_id}/content/{content_id}/details\"\n",
    "#     method = \"PUT\"\n",
    "#     headers = {\"Authorization\": SERVICE_ACCOUNT_CREDENTIALS}\n",
    "#     json = {'name': contents[0]['name'], \"description\": contents[0]['description'],'metadata': metadata, 'tagsId': [selected_tag['id']]}\n",
    "#     response14 = requests.request(method, url, headers=headers, json=json)\n",
    "\n",
    "# response14.text"
   ]
  },
  {
   "cell_type": "code",
   "execution_count": 52,
   "id": "7deccef7-4431-4cc1-90a9-f50950e833fc",
   "metadata": {},
   "outputs": [
    {
     "data": {
      "text/plain": [
       "{'name': 'oZFhVsAuYjXVfx1C6B2K8LMY4sN2_material_0',\n",
       " 'description': 'A another new description!',\n",
       " 'metadata': {'accuracy': 1.0, 'stability': 0.5, 'winTransaction': 3},\n",
       " 'tagsId': ['e9c9ee8e-0efe-4652-bdae-abc643e83a38']}"
      ]
     },
     "execution_count": 52,
     "metadata": {},
     "output_type": "execute_result"
    }
   ],
   "source": [
    "json"
   ]
  },
  {
   "cell_type": "code",
   "execution_count": 10,
   "id": "0b1d85ba-63da-474f-ab8c-27b9fe93d708",
   "metadata": {
    "scrolled": true
   },
   "outputs": [],
   "source": [
    "contents = json_loads(response10.text)['results']"
   ]
  },
  {
   "cell_type": "markdown",
   "id": "094bfd04-4245-4b3e-aeae-922c5b332ba3",
   "metadata": {},
   "source": [
    "Update user's content as an Admin"
   ]
  },
  {
   "cell_type": "code",
   "execution_count": 37,
   "id": "829b8c29-a7ee-401b-bcbd-40b8b3abbcde",
   "metadata": {},
   "outputs": [
    {
     "data": {
      "text/plain": [
       "'{\"title\":\"Invalid input passed to API. Fields: metadata,metadata\",\"detail\":\"Unexpected character encountered while parsing value: {. Path \\'metadata\\', line 1, position 105.\",\"details\":[\"Unexpected character encountered while parsing value: {. Path \\'metadata\\', line 1, position 105.\",\"After parsing a value an unexpected character was encountered: :. Path \\'metadata\\', line 1, position 115.\"],\"status\":22020}'"
      ]
     },
     "execution_count": 37,
     "metadata": {},
     "output_type": "execute_result"
    }
   ],
   "source": [
    "url = f\"https://services.api.unity.com/ugc/v1/projects/{project_id}/environments/{environment_id}/content/{contents[0]['id']}/details\"\n",
    "method = \"PUT\"\n",
    "headers = {\"Authorization\": SERVICE_ACCOUNT_CREDENTIALS}\n",
    "json = {'name': contents[0]['name'], \"description\": contents[0]['description'],'metadata': metadata, 'tagsId': [selected_tag['id']]}\n",
    "response15 = requests.request(method, url, headers=headers, json=json)\n",
    "response15.text"
   ]
  },
  {
   "cell_type": "code",
   "execution_count": null,
   "id": "b8251755-3267-4582-b9f3-a37e769de565",
   "metadata": {},
   "outputs": [],
   "source": []
  },
  {
   "cell_type": "code",
   "execution_count": null,
   "id": "788c5cc1-a809-4c33-815c-c264e52e8fcc",
   "metadata": {},
   "outputs": [],
   "source": []
  }
 ],
 "metadata": {
  "kernelspec": {
   "display_name": "Python 3 (ipykernel)",
   "language": "python",
   "name": "python3"
  },
  "language_info": {
   "codemirror_mode": {
    "name": "ipython",
    "version": 3
   },
   "file_extension": ".py",
   "mimetype": "text/x-python",
   "name": "python",
   "nbconvert_exporter": "python",
   "pygments_lexer": "ipython3",
   "version": "3.10.13"
  }
 },
 "nbformat": 4,
 "nbformat_minor": 5
}
